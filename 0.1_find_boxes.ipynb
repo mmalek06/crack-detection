{
 "cells": [
  {
   "cell_type": "markdown",
   "metadata": {
    "collapsed": false,
    "jupyter": {
     "outputs_hidden": false
    }
   },
   "source": [
    "<h3>This notebook contains code used to create bounding boxes around crack segmentation masks.</h3>\n",
    "\n",
    "There's also a need to perform some data engineering. Some segmentation masks are not very accurate. Some contain disconnected clusters of pixels that in reality should be one segmentation mask, while others contains some weird looking artifacts around those segmentation masks that are otherwise valid. To combat both of those problems certain strategies have or could have been employed:\n",
    "1. Consider only bounding boxes for areas greater than 20\n",
    "2. Merge bounding boxes if they are very close to each other\n",
    "3. Interpolate between closely laid out points\n",
    "\n",
    "Step #3 was not executed. However, if the dataset could have been split into multiple ones, it would be possible to execute it only on those subdatasets that exhibit this problem. Because of simplicity it was easier to just exclude some of the images."
   ]
  },
  {
   "cell_type": "code",
   "metadata": {
    "ExecuteTime": {
     "end_time": "2024-08-05T05:39:40.131506Z",
     "start_time": "2024-08-05T05:39:38.998911Z"
    }
   },
   "source": [
    "import os\n",
    "import cv2\n",
    "import json\n",
    "import numpy as np\n",
    "import matplotlib.pyplot as plt"
   ],
   "outputs": [],
   "execution_count": 1
  },
  {
   "metadata": {
    "ExecuteTime": {
     "end_time": "2024-08-05T05:40:49.351194Z",
     "start_time": "2024-08-05T05:40:49.215072Z"
    }
   },
   "cell_type": "code",
   "source": [
    "test_img = cv2.imread(os.path.join(\"data\", \"tests\", \"i.png\"), cv2.IMREAD_GRAYSCALE)\n",
    "test_kernel = np.ones((15, 15), np.uint8)\n",
    "morphed_test_img = cv2.morphologyEx(test_img, cv2.MORPH_CLOSE, test_kernel)\n",
    "\n",
    "plt.figure(figsize=(12, 6))\n",
    "plt.subplot(1, 2, 1)\n",
    "plt.imshow(test_img, cmap=\"gray\")\n",
    "plt.title(\"Original Image\")\n",
    "plt.axis(\"off\")\n",
    "\n",
    "plt.subplot(1, 2, 2)\n",
    "plt.imshow(morphed_test_img, cmap=\"gray\")\n",
    "plt.title(\"Morphed Image\")\n",
    "plt.axis(\"off\")\n",
    "\n",
    "plt.show()"
   ],
   "outputs": [
    {
     "data": {
      "text/plain": [
       "<Figure size 1200x600 with 2 Axes>"
      ],
      "image/png": "[encoded data removed]"
     },
     "metadata": {},
     "output_type": "display_data"
    }
   ],
   "execution_count": 6
  },
  {
   "cell_type": "code",
   "metadata": {
    "collapsed": false,
    "jupyter": {
     "outputs_hidden": false
    },
    "ExecuteTime": {
     "end_time": "2024-08-04T16:38:17.409625Z",
     "start_time": "2024-08-04T16:38:17.404346Z"
    }
   },
   "source": [
    "train_dir = os.path.join(\"data\", \"train\")\n",
    "valid_dir = os.path.join(\"data\", \"valid\")\n",
    "images_dir_train = os.path.join(train_dir, \"images\")\n",
    "images_dir_valid = os.path.join(valid_dir, \"images\")\n",
    "masks_dir_train = os.path.join(train_dir, \"masks\")\n",
    "masks_dir_valid = os.path.join(valid_dir, \"masks\")"
   ],
   "outputs": [],
   "execution_count": 2
  },
  {
   "cell_type": "code",
   "metadata": {
    "collapsed": false,
    "jupyter": {
     "outputs_hidden": false
    },
    "ExecuteTime": {
     "end_time": "2024-08-04T16:38:17.414373Z",
     "start_time": "2024-08-04T16:38:17.410634Z"
    }
   },
   "source": [
    "def get_coco_tpl() -> dict:\n",
    "    return {\n",
    "        \"images\": [],\n",
    "        \"annotations\": [],\n",
    "        \"categories\": [{\n",
    "            \"id\": 1,\n",
    "            \"name\": \"crack\",\n",
    "            \"supercategory\": \"defect\"\n",
    "        }]\n",
    "    }"
   ],
   "outputs": [],
   "execution_count": 3
  },
  {
   "metadata": {
    "ExecuteTime": {
     "end_time": "2024-08-04T16:38:17.422690Z",
     "start_time": "2024-08-04T16:38:17.415380Z"
    }
   },
   "cell_type": "code",
   "source": [
    "def merge_adjacent_bboxes(bboxes: list[list[int]], threshold: int = 10) -> list[list[int]]:\n",
    "    merged_bboxes = []\n",
    "\n",
    "    while bboxes:\n",
    "        current_bbox = bboxes.pop(0)\n",
    "        merged = True\n",
    "\n",
    "        while merged:\n",
    "            merged = False\n",
    "            \n",
    "            for i, bbox in enumerate(bboxes):\n",
    "                if (current_bbox[0] - threshold < bbox[0] + bbox[2] and\n",
    "                    current_bbox[0] + current_bbox[2] + threshold > bbox[0] and\n",
    "                    current_bbox[1] - threshold < bbox[1] + bbox[3] and\n",
    "                    current_bbox[1] + current_bbox[3] + threshold > bbox[1]):\n",
    "\n",
    "                    x_min = min(current_bbox[0], bbox[0])\n",
    "                    y_min = min(current_bbox[1], bbox[1])\n",
    "                    x_max = max(current_bbox[0] + current_bbox[2], bbox[0] + bbox[2])\n",
    "                    y_max = max(current_bbox[1] + current_bbox[3], bbox[1] + bbox[3])\n",
    "                    current_bbox = [x_min, y_min, x_max - x_min, y_max - y_min]\n",
    "                    bboxes.pop(i)\n",
    "                    merged = True\n",
    "                    break\n",
    "\n",
    "        merged_bboxes.append(current_bbox)\n",
    "\n",
    "    return merged_bboxes"
   ],
   "outputs": [],
   "execution_count": 4
  },
  {
   "metadata": {
    "ExecuteTime": {
     "end_time": "2024-08-04T16:38:17.435135Z",
     "start_time": "2024-08-04T16:38:17.423700Z"
    }
   },
   "cell_type": "code",
   "source": [
    "def find_boxes(images_dir: str, masks_dir: str, coco_format: dict, closing_kernel_size: int = 15) -> None:\n",
    "    annotation_id = 1\n",
    "    image_id_mapping = {}\n",
    "    kernel = np.ones((closing_kernel_size, closing_kernel_size), np.uint8)\n",
    "\n",
    "    for mask_filename in os.listdir(masks_dir):\n",
    "        image_id = os.path.splitext(mask_filename)[0]\n",
    "\n",
    "        if \"cracktree\" in image_id.lower():\n",
    "            continue\n",
    "        \n",
    "        mask_path = os.path.join(masks_dir, mask_filename)\n",
    "        image_path = os.path.join(images_dir, f\"{image_id}.jpg\")\n",
    "\n",
    "        if not os.path.exists(image_path):\n",
    "            continue\n",
    "\n",
    "        image_id_mapping[image_id] = len(image_id_mapping) + 1\n",
    "        mask = cv2.imread(mask_path, cv2.IMREAD_GRAYSCALE)\n",
    "\n",
    "        if mask is None or np.sum(mask) == 0:\n",
    "            annotation_entry = {\n",
    "                \"id\": annotation_id,\n",
    "                \"image_id\": image_id_mapping[image_id],\n",
    "                \"category_id\": 1,\n",
    "                \"bbox\": [],\n",
    "                \"area\": 0,\n",
    "                \"segmentation\": [],\n",
    "                \"iscrowd\": 0,\n",
    "                \"label\": f\"no crack {annotation_id}\"\n",
    "            }\n",
    "            coco_format[\"annotations\"].append(annotation_entry)\n",
    "            annotation_id += 1\n",
    "\n",
    "        closed_mask = cv2.morphologyEx(mask, cv2.MORPH_CLOSE, kernel)\n",
    "        _, binary_image = cv2.threshold(closed_mask, 127, 255, cv2.THRESH_BINARY)\n",
    "        num_labels, labels, stats, centroids = cv2.connectedComponentsWithStats(binary_image, connectivity=8)\n",
    "\n",
    "        if image_id not in coco_format[\"images\"]:\n",
    "            image_entry = {\n",
    "                \"id\": image_id_mapping[image_id],\n",
    "                \"file_name\": os.path.basename(image_path),\n",
    "                \"width\": mask.shape[1],\n",
    "                \"height\": mask.shape[0],\n",
    "                \"license\": 1,\n",
    "                \"flickr_url\": \"\",\n",
    "                \"coco_url\": \"\",\n",
    "                \"date_captured\": \"\"\n",
    "            }\n",
    "            coco_format[\"images\"].append(image_entry)\n",
    "\n",
    "        bboxes = []\n",
    "        segmentations = []\n",
    "\n",
    "        for j in range(1, num_labels):\n",
    "            if stats[j, cv2.CC_STAT_AREA] > 20:\n",
    "                bbox = [\n",
    "                    int(stats[j, cv2.CC_STAT_LEFT]),\n",
    "                    int(stats[j, cv2.CC_STAT_TOP]),\n",
    "                    int(stats[j, cv2.CC_STAT_WIDTH]),\n",
    "                    int(stats[j, cv2.CC_STAT_HEIGHT])\n",
    "                ]\n",
    "                mask_region = (labels == j).astype(np.uint8)\n",
    "                contours, _ = cv2.findContours(mask_region, cv2.RETR_EXTERNAL, cv2.CHAIN_APPROX_SIMPLE)\n",
    "                segmentation = [contour.flatten().tolist() for contour in contours if contour.size >= 6]\n",
    "\n",
    "                bboxes.append(bbox)\n",
    "                segmentations.append(segmentation)\n",
    "\n",
    "        merged_bboxes = merge_adjacent_bboxes(bboxes)\n",
    "\n",
    "        for bbox, segmentation in zip(merged_bboxes, segmentations):\n",
    "            annotation_entry = {\n",
    "                \"id\": annotation_id,\n",
    "                \"image_id\": image_id_mapping[image_id],\n",
    "                \"category_id\": 1,\n",
    "                \"bbox\": bbox,\n",
    "                \"area\": bbox[2] * bbox[3],\n",
    "                \"segmentation\": segmentation,\n",
    "                \"iscrowd\": 0,\n",
    "                \"label\": f\"crack {annotation_id}\"\n",
    "            }\n",
    "            coco_format[\"annotations\"].append(annotation_entry)\n",
    "            annotation_id += 1\n",
    "\n",
    "    print(f\"Entries count: {len(coco_format['annotations'])}\")"
   ],
   "outputs": [],
   "execution_count": 5
  },
  {
   "metadata": {
    "ExecuteTime": {
     "end_time": "2024-08-04T16:38:17.442166Z",
     "start_time": "2024-08-04T16:38:17.437143Z"
    }
   },
   "cell_type": "code",
   "source": [
    "def build_coco(images_dir: str, masks_dir: str, prefix: str) -> None:\n",
    "    coco_format = get_coco_tpl()\n",
    "    find_boxes(images_dir, masks_dir, coco_format)\n",
    "    output_file = os.path.join(\"data\", prefix, f\"coco_annotations.json\")\n",
    "\n",
    "    os.makedirs(os.path.dirname(output_file), exist_ok=True)\n",
    "\n",
    "    with open(output_file, \"w\") as f:\n",
    "        json.dump(coco_format, f, indent=4)\n",
    "\n",
    "    print(f\"COCO format annotations saved to {output_file}\")"
   ],
   "outputs": [],
   "execution_count": 6
  },
  {
   "metadata": {
    "ExecuteTime": {
     "end_time": "2024-08-04T16:38:43.637614Z",
     "start_time": "2024-08-04T16:38:17.443177Z"
    }
   },
   "cell_type": "code",
   "source": "build_coco(images_dir_train, masks_dir_train, \"train\")",
   "outputs": [
    {
     "name": "stdout",
     "output_type": "stream",
     "text": [
      "Entries count: 12582\n",
      "COCO format annotations saved to data\\train\\coco_annotations.json\n"
     ]
    }
   ],
   "execution_count": 7
  },
  {
   "metadata": {
    "ExecuteTime": {
     "end_time": "2024-08-04T16:38:48.045785Z",
     "start_time": "2024-08-04T16:38:43.639636Z"
    }
   },
   "cell_type": "code",
   "source": "build_coco(images_dir_valid, masks_dir_valid, \"valid\")",
   "outputs": [
    {
     "name": "stdout",
     "output_type": "stream",
     "text": [
      "Entries count: 2197\n",
      "COCO format annotations saved to data\\valid\\coco_annotations.json\n"
     ]
    }
   ],
   "execution_count": 8
  },
  {
   "metadata": {
    "ExecuteTime": {
     "end_time": "2024-08-04T16:38:48.049761Z",
     "start_time": "2024-08-04T16:38:48.046804Z"
    }
   },
   "cell_type": "code",
   "source": "",
   "outputs": [],
   "execution_count": 8
  }
 ],
 "metadata": {
  "kernelspec": {
   "display_name": "Python (crack_detection_torch_1)",
   "language": "python",
   "name": "crack_detection_torch_1"
  },
  "language_info": {
   "codemirror_mode": {
    "name": "ipython",
    "version": 3
   },
   "file_extension": ".py",
   "mimetype": "text/x-python",
   "name": "python",
   "nbconvert_exporter": "python",
   "pygments_lexer": "ipython3",
   "version": "3.11.9"
  }
 },
 "nbformat": 4,
 "nbformat_minor": 4
}
