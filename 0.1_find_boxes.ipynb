{
 "cells": [
  {
   "cell_type": "markdown",
   "metadata": {
    "collapsed": false,
    "jupyter": {
     "outputs_hidden": false
    }
   },
   "source": "<h3>This notebook contains code used to create bounding boxes around cracks. Numpy files will be created to hold that information.</h3>"
  },
  {
   "cell_type": "code",
   "metadata": {
    "ExecuteTime": {
     "end_time": "2024-08-03T08:11:46.714619Z",
     "start_time": "2024-08-03T08:11:46.522709Z"
    }
   },
   "source": [
    "import os\n",
    "import pickle\n",
    "import cv2\n",
    "import numpy as np"
   ],
   "outputs": [],
   "execution_count": 2
  },
  {
   "cell_type": "code",
   "metadata": {
    "collapsed": false,
    "jupyter": {
     "outputs_hidden": false
    },
    "ExecuteTime": {
     "end_time": "2024-08-03T08:11:47.585927Z",
     "start_time": "2024-08-03T08:11:47.538430Z"
    }
   },
   "source": [
    "get_paths = lambda path: [f\"{os.path.join(root, file)}\" for root, dirs, files in os.walk(path) for file in files]\n",
    "train_dir = os.path.join(\"data\", \"train\")\n",
    "valid_dir = os.path.join(\"data\", \"valid\")\n",
    "masks_dir_train = os.path.join(train_dir, \"masks\")\n",
    "masks_dir_valid = os.path.join(valid_dir, \"masks\")\n",
    "mask_paths_train = get_paths(masks_dir_train)\n",
    "mask_paths_valid = get_paths(masks_dir_valid)"
   ],
   "outputs": [],
   "execution_count": 3
  },
  {
   "cell_type": "code",
   "metadata": {
    "collapsed": false,
    "jupyter": {
     "outputs_hidden": false
    },
    "ExecuteTime": {
     "end_time": "2024-08-03T08:11:57.107233Z",
     "start_time": "2024-08-03T08:11:57.098287Z"
    }
   },
   "source": [
    "def find_boxes(paths: list[str], stats_file: str, labels_file: str, batch_size: int = 100) -> None:\n",
    "    os.makedirs(os.path.dirname(stats_file), exist_ok=True)\n",
    "    os.makedirs(os.path.dirname(labels_file), exist_ok=True)\n",
    "\n",
    "    with open(labels_file, 'wb') as labels_f, open(stats_file, 'wb') as stats_f:\n",
    "        for i in range(0, len(paths), batch_size):\n",
    "            batch_paths = paths[i:i+batch_size]\n",
    "            batch_labels = []\n",
    "            batch_stats = []\n",
    "\n",
    "            for mask_path in batch_paths:\n",
    "                image = cv2.imread(mask_path, cv2.IMREAD_GRAYSCALE)\n",
    "                _, binary_image = cv2.threshold(image, 127, 255, cv2.THRESH_BINARY)\n",
    "                num_labels, labels, stats, centroids = cv2.connectedComponentsWithStats(binary_image, connectivity=8)\n",
    "                large_labels = []\n",
    "                large_stats = []\n",
    "    \n",
    "                for j in range(1, num_labels):\n",
    "                    if stats[j, cv2.CC_STAT_AREA] > 20:\n",
    "                        large_labels.append(labels == j)\n",
    "                        large_stats.append(stats[j])\n",
    "                if large_labels:\n",
    "                    large_labels_array = np.zeros_like(labels)\n",
    "                    \n",
    "                    for idx, lbl in enumerate(large_labels):\n",
    "                        large_labels_array[lbl] = idx + 1\n",
    "                        \n",
    "                    batch_labels.append(large_labels_array)\n",
    "                    batch_stats.append(np.array(large_stats))\n",
    "\n",
    "            pickle.dump(batch_labels, labels_f)\n",
    "            pickle.dump(batch_stats, stats_f)\n",
    "\n",
    "            del batch_labels, batch_stats"
   ],
   "outputs": [],
   "execution_count": 4
  },
  {
   "metadata": {
    "ExecuteTime": {
     "end_time": "2024-08-03T08:12:18.818610Z",
     "start_time": "2024-08-03T08:11:58.627464Z"
    }
   },
   "cell_type": "code",
   "source": [
    "train_stats_file = os.path.join(train_dir, \"stats.pkl\")\n",
    "train_labels_file = os.path.join(train_dir, \"labels.pkl\")\n",
    "\n",
    "find_boxes(mask_paths_train, train_stats_file, train_labels_file)"
   ],
   "outputs": [],
   "execution_count": 5
  },
  {
   "metadata": {
    "ExecuteTime": {
     "end_time": "2024-08-03T08:12:22.217019Z",
     "start_time": "2024-08-03T08:12:18.820617Z"
    }
   },
   "cell_type": "code",
   "source": [
    "valid_stats_file = os.path.join(valid_dir, \"stats.pkl\")\n",
    "valid_labels_file = os.path.join(valid_dir, \"labels.pkl\")\n",
    "\n",
    "find_boxes(mask_paths_valid, valid_stats_file, valid_labels_file)"
   ],
   "outputs": [],
   "execution_count": 6
  },
  {
   "metadata": {},
   "cell_type": "code",
   "outputs": [],
   "execution_count": null,
   "source": ""
  }
 ],
 "metadata": {
  "kernelspec": {
   "display_name": "Python (crack_detection_torch_1)",
   "language": "python",
   "name": "crack_detection_torch_1"
  },
  "language_info": {
   "codemirror_mode": {
    "name": "ipython",
    "version": 3
   },
   "file_extension": ".py",
   "mimetype": "text/x-python",
   "name": "python",
   "nbconvert_exporter": "python",
   "pygments_lexer": "ipython3",
   "version": "3.11.9"
  }
 },
 "nbformat": 4,
 "nbformat_minor": 4
}
