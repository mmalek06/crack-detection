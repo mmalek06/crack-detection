{
 "cells": [
  {
   "cell_type": "markdown",
   "metadata": {
    "collapsed": false,
    "jupyter": {
     "outputs_hidden": false
    }
   },
   "source": "<h3>This notebook contains code used to create bounding boxes around cracks. Numpy files will be created to hold that information.</h3>"
  },
  {
   "cell_type": "code",
   "metadata": {
    "ExecuteTime": {
     "end_time": "2024-08-03T10:18:29.601003Z",
     "start_time": "2024-08-03T10:18:29.597009Z"
    }
   },
   "source": [
    "import os\n",
    "import cv2\n",
    "import json\n",
    "import numpy as np"
   ],
   "outputs": [],
   "execution_count": 20
  },
  {
   "cell_type": "code",
   "metadata": {
    "collapsed": false,
    "jupyter": {
     "outputs_hidden": false
    },
    "ExecuteTime": {
     "end_time": "2024-08-03T10:18:29.795106Z",
     "start_time": "2024-08-03T10:18:29.756205Z"
    }
   },
   "source": [
    "get_paths = lambda path: [f\"{os.path.join(root, file)}\" for root, dirs, files in os.walk(path) for file in files]\n",
    "train_dir = os.path.join(\"data\", \"train\")\n",
    "valid_dir = os.path.join(\"data\", \"valid\")\n",
    "images_dir_train = os.path.join(train_dir, \"images\")\n",
    "images_dir_valid = os.path.join(valid_dir, \"images\")\n",
    "masks_dir_train = os.path.join(train_dir, \"masks\")\n",
    "masks_dir_valid = os.path.join(valid_dir, \"masks\")\n",
    "mask_paths_train = get_paths(masks_dir_train)\n",
    "mask_paths_valid = get_paths(masks_dir_valid)"
   ],
   "outputs": [],
   "execution_count": 21
  },
  {
   "cell_type": "code",
   "metadata": {
    "collapsed": false,
    "jupyter": {
     "outputs_hidden": false
    },
    "ExecuteTime": {
     "end_time": "2024-08-03T10:18:29.904589Z",
     "start_time": "2024-08-03T10:18:29.900459Z"
    }
   },
   "source": [
    "def get_coco_tpl() -> dict:\n",
    "    return {\n",
    "        \"images\": [],\n",
    "        \"annotations\": [],\n",
    "        \"categories\": [{\n",
    "            \"id\": 1,\n",
    "            \"name\": \"crack\",\n",
    "            \"supercategory\": \"defect\"\n",
    "        }]\n",
    "    }"
   ],
   "outputs": [],
   "execution_count": 22
  },
  {
   "metadata": {
    "ExecuteTime": {
     "end_time": "2024-08-03T10:18:30.070759Z",
     "start_time": "2024-08-03T10:18:30.059922Z"
    }
   },
   "cell_type": "code",
   "source": [
    "def find_boxes(masks_dir: str, images_dir: str, coco_format: dict) -> None:\n",
    "    annotation_id = 1\n",
    "    image_id_mapping = {}\n",
    "\n",
    "    for mask_filename in os.listdir(masks_dir):\n",
    "        image_id = os.path.splitext(mask_filename)[0]\n",
    "        mask_path = os.path.join(masks_dir, mask_filename)\n",
    "        image_path = os.path.join(images_dir, f\"{image_id}.jpg\")\n",
    "\n",
    "        if not os.path.exists(image_path):\n",
    "            continue\n",
    "\n",
    "        image_id_mapping[image_id] = len(image_id_mapping) + 1\n",
    "        mask = cv2.imread(mask_path, cv2.IMREAD_GRAYSCALE)\n",
    "        \n",
    "        if mask is None:\n",
    "            continue\n",
    "\n",
    "        _, binary_image = cv2.threshold(mask, 127, 255, cv2.THRESH_BINARY)\n",
    "        num_labels, labels, stats, centroids = cv2.connectedComponentsWithStats(binary_image, connectivity=8)\n",
    "\n",
    "        if image_id not in coco_format[\"images\"]:\n",
    "            image_entry = {\n",
    "                \"id\": image_id_mapping[image_id],\n",
    "                \"file_name\": os.path.basename(image_path),\n",
    "                \"width\": mask.shape[1],\n",
    "                \"height\": mask.shape[0],\n",
    "                \"license\": 1,\n",
    "                \"flickr_url\": \"\",\n",
    "                \"coco_url\": \"\",\n",
    "                \"date_captured\": \"\"\n",
    "            }\n",
    "            coco_format[\"images\"].append(image_entry)\n",
    "\n",
    "        for j in range(1, num_labels):\n",
    "            # cv2 also adds boxes covering full image for some reason\n",
    "            if stats[j, cv2.CC_STAT_LEFT] == 0 and stats[j, cv2.CC_STAT_TOP] == 0 and \\\n",
    "               stats[j, cv2.CC_STAT_WIDTH] == mask.shape[1] and stats[j, cv2.CC_STAT_HEIGHT] == mask.shape[0]:\n",
    "                continue\n",
    "\n",
    "            if stats[j, cv2.CC_STAT_AREA] > 20:\n",
    "                bbox = [\n",
    "                    int(stats[j, cv2.CC_STAT_LEFT]),\n",
    "                    int(stats[j, cv2.CC_STAT_TOP]),\n",
    "                    int(stats[j, cv2.CC_STAT_WIDTH]),\n",
    "                    int(stats[j, cv2.CC_STAT_HEIGHT])\n",
    "                ]\n",
    "                mask_region = (labels == j).astype(np.uint8)\n",
    "                contours, _ = cv2.findContours(mask_region, cv2.RETR_EXTERNAL, cv2.CHAIN_APPROX_SIMPLE)\n",
    "                segmentation = [contour.flatten().tolist() for contour in contours if contour.size >= 6]\n",
    "                annotation_entry = {\n",
    "                    \"id\": annotation_id,\n",
    "                    \"image_id\": image_id_mapping[image_id],\n",
    "                    \"category_id\": 1,\n",
    "                    \"bbox\": bbox,\n",
    "                    \"area\": int(stats[j, cv2.CC_STAT_AREA]),\n",
    "                    \"segmentation\": segmentation,\n",
    "                    \"iscrowd\": 0,\n",
    "                    \"label\": f\"crack {annotation_id}\"\n",
    "                }\n",
    "                coco_format[\"annotations\"].append(annotation_entry)\n",
    "                annotation_id += 1\n",
    "\n",
    "    print(f\"Entries count: {len(coco_format['annotations'])}\")"
   ],
   "outputs": [],
   "execution_count": 23
  },
  {
   "metadata": {
    "ExecuteTime": {
     "end_time": "2024-08-03T10:18:30.602454Z",
     "start_time": "2024-08-03T10:18:30.597149Z"
    }
   },
   "cell_type": "code",
   "source": [
    "def build_coco(images_dir: str, masks_dir: str, prefix: str) -> None:\n",
    "    coco_format = get_coco_tpl()\n",
    "    find_boxes(masks_dir, images_dir, coco_format)\n",
    "    output_file = os.path.join(\"data\", prefix, f\"coco_annotations.json\")\n",
    "\n",
    "    os.makedirs(os.path.dirname(output_file), exist_ok=True)\n",
    "\n",
    "    with open(output_file, \"w\") as f:\n",
    "        json.dump(coco_format, f, indent=4)\n",
    "\n",
    "    print(f\"COCO format annotations saved to {output_file}\")"
   ],
   "outputs": [],
   "execution_count": 24
  },
  {
   "metadata": {
    "ExecuteTime": {
     "end_time": "2024-08-03T10:19:13.708636Z",
     "start_time": "2024-08-03T10:18:30.860478Z"
    }
   },
   "cell_type": "code",
   "source": "build_coco(images_dir_train, masks_dir_train, \"train\")",
   "outputs": [
    {
     "name": "stdout",
     "output_type": "stream",
     "text": [
      "Entries count: 18315\n",
      "COCO format annotations saved to data\\train\\coco_annotations.json\n"
     ]
    }
   ],
   "execution_count": 25
  },
  {
   "metadata": {
    "ExecuteTime": {
     "end_time": "2024-08-03T10:20:33.925351Z",
     "start_time": "2024-08-03T10:20:25.393819Z"
    }
   },
   "cell_type": "code",
   "source": "build_coco(images_dir_valid, masks_dir_valid, \"valid\")",
   "outputs": [
    {
     "name": "stdout",
     "output_type": "stream",
     "text": [
      "Entries count: 3244\n",
      "COCO format annotations saved to data\\valid\\coco_annotations.json\n"
     ]
    }
   ],
   "execution_count": 28
  },
  {
   "metadata": {},
   "cell_type": "code",
   "outputs": [],
   "execution_count": null,
   "source": ""
  }
 ],
 "metadata": {
  "kernelspec": {
   "display_name": "Python (crack_detection_torch_1)",
   "language": "python",
   "name": "crack_detection_torch_1"
  },
  "language_info": {
   "codemirror_mode": {
    "name": "ipython",
    "version": 3
   },
   "file_extension": ".py",
   "mimetype": "text/x-python",
   "name": "python",
   "nbconvert_exporter": "python",
   "pygments_lexer": "ipython3",
   "version": "3.11.9"
  }
 },
 "nbformat": 4,
 "nbformat_minor": 4
}
