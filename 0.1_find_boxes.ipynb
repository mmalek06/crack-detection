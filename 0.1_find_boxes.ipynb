{
 "cells": [
  {
   "cell_type": "markdown",
   "metadata": {
    "collapsed": false,
    "jupyter": {
     "outputs_hidden": false
    }
   },
   "source": "<h3>This notebook contains code used to create bounding boxes around cracks. Numpy files will be created to hold that information.</h3>"
  },
  {
   "cell_type": "code",
   "metadata": {
    "ExecuteTime": {
     "end_time": "2024-08-02T07:30:48.783780Z",
     "start_time": "2024-08-02T07:30:48.779852Z"
    }
   },
   "source": [
    "import os\n",
    "\n",
    "import cv2\n",
    "import numpy as np"
   ],
   "outputs": [],
   "execution_count": 6
  },
  {
   "cell_type": "code",
   "metadata": {
    "collapsed": false,
    "jupyter": {
     "outputs_hidden": false
    },
    "ExecuteTime": {
     "end_time": "2024-08-02T07:30:48.992950Z",
     "start_time": "2024-08-02T07:30:48.953958Z"
    }
   },
   "source": [
    "get_paths = lambda path: [f\"{os.path.join(root, file)}\" for root, dirs, files in os.walk(path) for file in files]\n",
    "train_dir = os.path.join(\"data\", \"train\")\n",
    "valid_dir = os.path.join(\"data\", \"valid\")\n",
    "masks_dir_train = os.path.join(train_dir, \"masks\")\n",
    "masks_dir_valid = os.path.join(valid_dir, \"masks\")\n",
    "mask_paths_train = get_paths(masks_dir_train)\n",
    "mask_paths_valid = get_paths(masks_dir_valid)"
   ],
   "outputs": [],
   "execution_count": 7
  },
  {
   "cell_type": "code",
   "metadata": {
    "collapsed": false,
    "jupyter": {
     "outputs_hidden": false
    },
    "ExecuteTime": {
     "end_time": "2024-08-02T07:30:49.171830Z",
     "start_time": "2024-08-02T07:30:49.161874Z"
    }
   },
   "source": [
    "def find_boxes(paths: list[str], stats_file: str, labels_file: str, batch_size: int = 100) -> None:\n",
    "    all_labels = []\n",
    "    all_stats = []\n",
    "\n",
    "    for i in range(0, len(paths), batch_size):\n",
    "        batch_paths = paths[i:i+batch_size]\n",
    "        batch_labels = []\n",
    "        batch_stats = []\n",
    "\n",
    "        for mask_path in batch_paths:\n",
    "            image = cv2.imread(mask_path, cv2.IMREAD_GRAYSCALE)\n",
    "            _, binary_image = cv2.threshold(image, 127, 255, cv2.THRESH_BINARY)\n",
    "            num_labels, labels, stats, centroids = cv2.connectedComponentsWithStats(binary_image, connectivity=8)\n",
    "\n",
    "            batch_labels.append(labels)\n",
    "            batch_stats.append(stats)\n",
    "\n",
    "        batch_labels_array = np.array(batch_labels, dtype=object)\n",
    "        batch_stats_array = np.array(batch_stats, dtype=object)\n",
    "\n",
    "        all_labels.append(batch_labels_array)\n",
    "        all_stats.append(batch_stats_array)\n",
    "\n",
    "        if i == 0:\n",
    "            np.save(labels_file, batch_labels_array)\n",
    "            np.save(stats_file, batch_stats_array)\n",
    "        else:\n",
    "            with open(train_labels_file, 'ab') as f:\n",
    "                np.save(f, batch_labels_array)\n",
    "            with open(train_stats_file, 'ab') as f:\n",
    "                np.save(f, batch_stats_array)\n",
    "\n",
    "        del batch_labels, batch_stats, batch_labels_array, batch_stats_array"
   ],
   "outputs": [],
   "execution_count": 8
  },
  {
   "metadata": {
    "ExecuteTime": {
     "end_time": "2024-08-02T07:32:00.927665Z",
     "start_time": "2024-08-02T07:30:54.126456Z"
    }
   },
   "cell_type": "code",
   "source": [
    "train_stats_file = os.path.join(train_dir, \"stats.npy\")\n",
    "train_labels_file = os.path.join(train_dir, \"labels.npy\")\n",
    "\n",
    "find_boxes(mask_paths_train, train_stats_file, train_labels_file)"
   ],
   "outputs": [],
   "execution_count": 9
  },
  {
   "metadata": {
    "ExecuteTime": {
     "end_time": "2024-08-02T07:32:12.616528Z",
     "start_time": "2024-08-02T07:32:00.929144Z"
    }
   },
   "cell_type": "code",
   "source": [
    "valid_stats_file = os.path.join(valid_dir, \"stats.npy\")\n",
    "valid_labels_file = os.path.join(valid_dir, \"labels.npy\")\n",
    "\n",
    "find_boxes(mask_paths_valid, valid_stats_file, valid_labels_file)"
   ],
   "outputs": [],
   "execution_count": 10
  },
  {
   "metadata": {},
   "cell_type": "code",
   "outputs": [],
   "execution_count": null,
   "source": ""
  }
 ],
 "metadata": {
  "kernelspec": {
   "display_name": "Python (crack_detection_torch_1)",
   "language": "python",
   "name": "crack_detection_torch_1"
  },
  "language_info": {
   "codemirror_mode": {
    "name": "ipython",
    "version": 3
   },
   "file_extension": ".py",
   "mimetype": "text/x-python",
   "name": "python",
   "nbconvert_exporter": "python",
   "pygments_lexer": "ipython3",
   "version": "3.11.9"
  }
 },
 "nbformat": 4,
 "nbformat_minor": 4
}
