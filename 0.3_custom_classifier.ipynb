{
 "cells": [
  {
   "cell_type": "code",
   "id": "initial_id",
   "metadata": {
    "collapsed": true,
    "ExecuteTime": {
     "end_time": "2024-08-05T09:09:20.861157Z",
     "start_time": "2024-08-05T09:09:17.273122Z"
    }
   },
   "source": [
    "import os\n",
    "import PIL.Image\n",
    "import torch\n",
    "import torch.optim as optim\n",
    "\n",
    "from tqdm import tqdm\n",
    "from torchvision import transforms\n",
    "from torch.utils.data import DataLoader, Dataset\n",
    "\n",
    "from helpers.custom_classifier import CustomClassifier\n",
    "from helpers.early_stopping import EarlyStopping"
   ],
   "outputs": [],
   "execution_count": 1
  },
  {
   "metadata": {
    "ExecuteTime": {
     "end_time": "2024-08-05T09:09:20.869814Z",
     "start_time": "2024-08-05T09:09:20.863182Z"
    }
   },
   "cell_type": "code",
   "source": [
    "class CrackDataset(Dataset):\n",
    "    def __init__(self, images_dir, transform: transforms.Compose):\n",
    "        self.images_dir = images_dir\n",
    "        self.image_files = [f for f in os.listdir(images_dir) if os.path.isfile(os.path.join(images_dir, f))]\n",
    "        self.transform = transform\n",
    "\n",
    "    def __len__(self):\n",
    "        return len(self.image_files)\n",
    "\n",
    "    def __getitem__(self, idx: int) -> tuple[torch.Tensor, int]:\n",
    "        img_name = self.image_files[idx]\n",
    "        img_path = os.path.join(self.images_dir, img_name)\n",
    "        image = PIL.Image.open(img_path).convert(\"RGB\")\n",
    "        label = 0 if \"noncrack\" in img_name else 1\n",
    "        image = self.transform(image)\n",
    "\n",
    "        return image, label"
   ],
   "id": "356b2f9225755348",
   "outputs": [],
   "execution_count": 2
  },
  {
   "metadata": {
    "ExecuteTime": {
     "end_time": "2024-08-05T09:09:21.442420Z",
     "start_time": "2024-08-05T09:09:20.870820Z"
    }
   },
   "cell_type": "code",
   "source": [
    "batch_size = 32\n",
    "train_images_dir = os.path.join(\"data\", \"train\", \"images\")\n",
    "valid_images_dir = os.path.join(\"data\", \"valid\", \"images\")\n",
    "transform = transforms.Compose([\n",
    "    transforms.Resize((224, 224)),\n",
    "    transforms.ToTensor()\n",
    "])\n",
    "train_dataset = CrackDataset(train_images_dir, transform=transform)\n",
    "valid_dataset = CrackDataset(valid_images_dir, transform=transform)\n",
    "train_loader = DataLoader(train_dataset, batch_size=batch_size, shuffle=True)\n",
    "valid_loader = DataLoader(valid_dataset, batch_size=batch_size, shuffle=False)"
   ],
   "id": "4fc253bfc70ece8a",
   "outputs": [],
   "execution_count": 3
  },
  {
   "metadata": {
    "ExecuteTime": {
     "end_time": "2024-08-05T09:09:24.915764Z",
     "start_time": "2024-08-05T09:09:21.443815Z"
    }
   },
   "cell_type": "code",
   "source": [
    "model = CustomClassifier()\n",
    "criterion = torch.nn.BCEWithLogitsLoss()\n",
    "optimizer = optim.Adam(model.parameters(), lr=1e-4)\n",
    "early_stopping = EarlyStopping(patience=7, verbose=True, delta=0)\n",
    "num_epochs = 25\n",
    "device = torch.device(\"cuda\" if torch.cuda.is_available() else \"cpu\")\n",
    "\n",
    "model.to(device)"
   ],
   "id": "960c275d62b58873",
   "outputs": [
    {
     "data": {
      "text/plain": [
       "CustomClassifier(\n",
       "  (feature_extractor): Sequential(\n",
       "    (0): Conv2d(3, 64, kernel_size=(3, 3), stride=(1, 1), padding=(1, 1))\n",
       "    (1): ReLU(inplace=True)\n",
       "    (2): MaxPool2d(kernel_size=2, stride=2, padding=0, dilation=1, ceil_mode=False)\n",
       "    (3): Conv2d(64, 128, kernel_size=(3, 3), stride=(1, 1), padding=(1, 1))\n",
       "    (4): ReLU(inplace=True)\n",
       "    (5): MaxPool2d(kernel_size=2, stride=2, padding=0, dilation=1, ceil_mode=False)\n",
       "  )\n",
       "  (classifier): Sequential(\n",
       "    (0): Flatten(start_dim=1, end_dim=-1)\n",
       "    (1): Linear(in_features=401408, out_features=512, bias=True)\n",
       "    (2): ReLU(inplace=True)\n",
       "    (3): Linear(in_features=512, out_features=512, bias=True)\n",
       "    (4): ReLU(inplace=True)\n",
       "    (5): Linear(in_features=512, out_features=1, bias=True)\n",
       "  )\n",
       ")"
      ]
     },
     "execution_count": 4,
     "metadata": {},
     "output_type": "execute_result"
    }
   ],
   "execution_count": 4
  },
  {
   "metadata": {
    "ExecuteTime": {
     "end_time": "2024-08-05T09:35:09.370440Z",
     "start_time": "2024-08-05T09:10:26.615430Z"
    }
   },
   "cell_type": "code",
   "source": [
    "for epoch in range(num_epochs):\n",
    "    model.train()\n",
    "    train_loss = 0.0\n",
    "    correct_train = 0\n",
    "    total_train = 0\n",
    "\n",
    "    with tqdm(train_loader, unit=\"batch\") as tepoch:\n",
    "        tepoch.set_description(f\"Epoch {epoch+1}/{num_epochs}\")\n",
    "\n",
    "        for images, labels in tepoch:\n",
    "            images, labels = images.to(device), labels.to(device).float()\n",
    "\n",
    "            optimizer.zero_grad()\n",
    "\n",
    "            # squeeze because the outputs are (BATCH_SIZE, 1) shape, and should be of (BATCH_SIZE,) shape\n",
    "            outputs = model(images).squeeze(1)\n",
    "            loss = criterion(outputs, labels)\n",
    "\n",
    "            loss.backward()\n",
    "            optimizer.step()\n",
    "\n",
    "            train_loss += loss.item()\n",
    "            predicted = (outputs > 0.5).float()  # Binary prediction threshold\n",
    "            correct_train += predicted.eq(labels).sum().item()\n",
    "            total_train += labels.size(0)\n",
    "\n",
    "            tepoch.set_postfix(loss=train_loss/total_train, accuracy=100.*correct_train/total_train)\n",
    "\n",
    "    model.eval()\n",
    "\n",
    "    valid_loss = 0.0\n",
    "    correct_valid = 0\n",
    "    total_valid = 0\n",
    "\n",
    "    with torch.no_grad():\n",
    "        for images, labels in valid_loader:\n",
    "            images, labels = images.to(device), labels.to(device).float()\n",
    "            outputs = model(images).squeeze(1)\n",
    "            loss = criterion(outputs, labels)\n",
    "            valid_loss += loss.item()\n",
    "            predicted = (outputs > 0.5).float()\n",
    "            correct_valid += predicted.eq(labels).sum().item()\n",
    "            total_valid += labels.size(0)\n",
    "\n",
    "    valid_loss /= total_valid\n",
    "    valid_accuracy = 100. * correct_valid / total_valid\n",
    "\n",
    "    print(f\"Validation Loss: {valid_loss:.4f}, Validation Accuracy: {valid_accuracy:.2f}%\")\n",
    "    early_stopping(valid_loss, model, path=os.path.join(\"checkpoints\", \"custom_classifier.pt\"))\n",
    "\n",
    "    if early_stopping.early_stop:\n",
    "        print(\"Early stopping triggered\")\n",
    "        break"
   ],
   "id": "4c763004ffcee803",
   "outputs": [
    {
     "name": "stderr",
     "output_type": "stream",
     "text": [
      "Epoch 1/25: 100%|██████████| 301/301 [01:20<00:00,  3.72batch/s, accuracy=91.5, loss=0.00722]\n"
     ]
    },
    {
     "name": "stdout",
     "output_type": "stream",
     "text": [
      "Validation Loss: 0.0071, Validation Accuracy: 92.21%\n",
      "Validation loss decreased (inf --> 0.007093).  Saving model ...\n"
     ]
    },
    {
     "name": "stderr",
     "output_type": "stream",
     "text": [
      "Epoch 2/25: 100%|██████████| 301/301 [01:20<00:00,  3.75batch/s, accuracy=93.2, loss=0.00598]\n"
     ]
    },
    {
     "name": "stdout",
     "output_type": "stream",
     "text": [
      "Validation Loss: 0.0056, Validation Accuracy: 93.75%\n",
      "Validation loss decreased (0.007093 --> 0.005646).  Saving model ...\n"
     ]
    },
    {
     "name": "stderr",
     "output_type": "stream",
     "text": [
      "Epoch 3/25: 100%|██████████| 301/301 [01:20<00:00,  3.73batch/s, accuracy=94, loss=0.00514]  \n"
     ]
    },
    {
     "name": "stdout",
     "output_type": "stream",
     "text": [
      "Validation Loss: 0.0053, Validation Accuracy: 93.04%\n",
      "Validation loss decreased (0.005646 --> 0.005278).  Saving model ...\n"
     ]
    },
    {
     "name": "stderr",
     "output_type": "stream",
     "text": [
      "Epoch 4/25: 100%|██████████| 301/301 [01:21<00:00,  3.70batch/s, accuracy=94.8, loss=0.00465]\n"
     ]
    },
    {
     "name": "stdout",
     "output_type": "stream",
     "text": [
      "Validation Loss: 0.0059, Validation Accuracy: 92.39%\n",
      "EarlyStopping counter: 1 out of 7\n"
     ]
    },
    {
     "name": "stderr",
     "output_type": "stream",
     "text": [
      "Epoch 5/25: 100%|██████████| 301/301 [01:20<00:00,  3.75batch/s, accuracy=95.6, loss=0.00391]\n"
     ]
    },
    {
     "name": "stdout",
     "output_type": "stream",
     "text": [
      "Validation Loss: 0.0046, Validation Accuracy: 93.57%\n",
      "Validation loss decreased (0.005278 --> 0.004634).  Saving model ...\n"
     ]
    },
    {
     "name": "stderr",
     "output_type": "stream",
     "text": [
      "Epoch 6/25: 100%|██████████| 301/301 [01:20<00:00,  3.73batch/s, accuracy=96.2, loss=0.0035] \n"
     ]
    },
    {
     "name": "stdout",
     "output_type": "stream",
     "text": [
      "Validation Loss: 0.0046, Validation Accuracy: 95.52%\n",
      "Validation loss decreased (0.004634 --> 0.004588).  Saving model ...\n"
     ]
    },
    {
     "name": "stderr",
     "output_type": "stream",
     "text": [
      "Epoch 7/25: 100%|██████████| 301/301 [01:20<00:00,  3.72batch/s, accuracy=97.3, loss=0.00254]\n"
     ]
    },
    {
     "name": "stdout",
     "output_type": "stream",
     "text": [
      "Validation Loss: 0.0040, Validation Accuracy: 96.46%\n",
      "Validation loss decreased (0.004588 --> 0.004012).  Saving model ...\n"
     ]
    },
    {
     "name": "stderr",
     "output_type": "stream",
     "text": [
      "Epoch 8/25: 100%|██████████| 301/301 [01:20<00:00,  3.72batch/s, accuracy=97.6, loss=0.00214]\n"
     ]
    },
    {
     "name": "stdout",
     "output_type": "stream",
     "text": [
      "Validation Loss: 0.0041, Validation Accuracy: 96.40%\n",
      "EarlyStopping counter: 1 out of 7\n"
     ]
    },
    {
     "name": "stderr",
     "output_type": "stream",
     "text": [
      "Epoch 9/25: 100%|██████████| 301/301 [01:20<00:00,  3.72batch/s, accuracy=98.2, loss=0.0018] \n"
     ]
    },
    {
     "name": "stdout",
     "output_type": "stream",
     "text": [
      "Validation Loss: 0.0035, Validation Accuracy: 96.87%\n",
      "Validation loss decreased (0.004012 --> 0.003485).  Saving model ...\n"
     ]
    },
    {
     "name": "stderr",
     "output_type": "stream",
     "text": [
      "Epoch 10/25: 100%|██████████| 301/301 [01:20<00:00,  3.73batch/s, accuracy=98.6, loss=0.00141]\n"
     ]
    },
    {
     "name": "stdout",
     "output_type": "stream",
     "text": [
      "Validation Loss: 0.0040, Validation Accuracy: 96.05%\n",
      "EarlyStopping counter: 1 out of 7\n"
     ]
    },
    {
     "name": "stderr",
     "output_type": "stream",
     "text": [
      "Epoch 11/25: 100%|██████████| 301/301 [01:20<00:00,  3.75batch/s, accuracy=98.8, loss=0.00113] \n"
     ]
    },
    {
     "name": "stdout",
     "output_type": "stream",
     "text": [
      "Validation Loss: 0.0041, Validation Accuracy: 96.70%\n",
      "EarlyStopping counter: 2 out of 7\n"
     ]
    },
    {
     "name": "stderr",
     "output_type": "stream",
     "text": [
      "Epoch 12/25: 100%|██████████| 301/301 [01:20<00:00,  3.75batch/s, accuracy=99, loss=0.000994]  \n"
     ]
    },
    {
     "name": "stdout",
     "output_type": "stream",
     "text": [
      "Validation Loss: 0.0049, Validation Accuracy: 96.17%\n",
      "EarlyStopping counter: 3 out of 7\n"
     ]
    },
    {
     "name": "stderr",
     "output_type": "stream",
     "text": [
      "Epoch 13/25: 100%|██████████| 301/301 [01:20<00:00,  3.73batch/s, accuracy=98.8, loss=0.00122]\n"
     ]
    },
    {
     "name": "stdout",
     "output_type": "stream",
     "text": [
      "Validation Loss: 0.0046, Validation Accuracy: 96.22%\n",
      "EarlyStopping counter: 4 out of 7\n"
     ]
    },
    {
     "name": "stderr",
     "output_type": "stream",
     "text": [
      "Epoch 14/25: 100%|██████████| 301/301 [01:20<00:00,  3.74batch/s, accuracy=99.3, loss=0.000639]\n"
     ]
    },
    {
     "name": "stdout",
     "output_type": "stream",
     "text": [
      "Validation Loss: 0.0043, Validation Accuracy: 97.05%\n",
      "EarlyStopping counter: 5 out of 7\n"
     ]
    },
    {
     "name": "stderr",
     "output_type": "stream",
     "text": [
      "Epoch 15/25: 100%|██████████| 301/301 [01:20<00:00,  3.73batch/s, accuracy=99.7, loss=0.000376]\n"
     ]
    },
    {
     "name": "stdout",
     "output_type": "stream",
     "text": [
      "Validation Loss: 0.0093, Validation Accuracy: 96.22%\n",
      "EarlyStopping counter: 6 out of 7\n"
     ]
    },
    {
     "name": "stderr",
     "output_type": "stream",
     "text": [
      "Epoch 16/25: 100%|██████████| 301/301 [01:20<00:00,  3.72batch/s, accuracy=99.3, loss=0.000649]\n"
     ]
    },
    {
     "name": "stdout",
     "output_type": "stream",
     "text": [
      "Validation Loss: 0.0043, Validation Accuracy: 96.34%\n",
      "EarlyStopping counter: 7 out of 7\n",
      "Early stopping triggered\n"
     ]
    }
   ],
   "execution_count": 6
  },
  {
   "metadata": {},
   "cell_type": "code",
   "outputs": [],
   "execution_count": null,
   "source": "",
   "id": "1aff6d8e9e6a680b"
  }
 ],
 "metadata": {
  "kernelspec": {
   "display_name": "Python (crack_detection_torch_1)",
   "language": "python",
   "name": "crack_detection_torch_1"
  },
  "language_info": {
   "codemirror_mode": {
    "name": "ipython",
    "version": 2
   },
   "file_extension": ".py",
   "mimetype": "text/x-python",
   "name": "python",
   "nbconvert_exporter": "python",
   "pygments_lexer": "ipython2",
   "version": "2.7.6"
  }
 },
 "nbformat": 4,
 "nbformat_minor": 5
}
