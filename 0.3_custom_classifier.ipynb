{
 "cells": [
  {
   "cell_type": "code",
   "id": "initial_id",
   "metadata": {
    "collapsed": true,
    "ExecuteTime": {
     "end_time": "2024-08-05T13:57:24.685136Z",
     "start_time": "2024-08-05T13:57:20.248099Z"
    }
   },
   "source": [
    "import os\n",
    "import PIL.Image\n",
    "import torch\n",
    "import torch.optim as optim\n",
    "import matplotlib.pyplot as plt\n",
    "\n",
    "from tqdm import tqdm\n",
    "from torchvision import transforms\n",
    "from torch.utils.data import DataLoader, Dataset\n",
    "\n",
    "from helpers.custom_classifier import CustomClassifier\n",
    "from helpers.early_stopping import EarlyStopping"
   ],
   "outputs": [],
   "execution_count": 1
  },
  {
   "metadata": {
    "ExecuteTime": {
     "end_time": "2024-08-05T13:57:24.691342Z",
     "start_time": "2024-08-05T13:57:24.687140Z"
    }
   },
   "cell_type": "code",
   "source": "num_epochs = 25",
   "id": "cd4e0c2d6a502cae",
   "outputs": [],
   "execution_count": 2
  },
  {
   "metadata": {
    "ExecuteTime": {
     "end_time": "2024-08-05T13:57:24.701196Z",
     "start_time": "2024-08-05T13:57:24.693Z"
    }
   },
   "cell_type": "code",
   "source": [
    "class CrackDataset(Dataset):\n",
    "    def __init__(self, images_dir, transform: transforms.Compose):\n",
    "        self.images_dir = images_dir\n",
    "        self.image_files = [f for f in os.listdir(images_dir) if os.path.isfile(os.path.join(images_dir, f))]\n",
    "        self.transform = transform\n",
    "\n",
    "    def __len__(self):\n",
    "        return len(self.image_files)\n",
    "\n",
    "    def __getitem__(self, idx: int) -> tuple[torch.Tensor, int]:\n",
    "        img_name = self.image_files[idx]\n",
    "        img_path = os.path.join(self.images_dir, img_name)\n",
    "        image = PIL.Image.open(img_path).convert(\"RGB\")\n",
    "        label = 0 if \"noncrack\" in img_name else 1\n",
    "        image = self.transform(image)\n",
    "\n",
    "        return image, label"
   ],
   "id": "356b2f9225755348",
   "outputs": [],
   "execution_count": 3
  },
  {
   "metadata": {
    "ExecuteTime": {
     "end_time": "2024-08-05T13:57:24.710202Z",
     "start_time": "2024-08-05T13:57:24.703203Z"
    }
   },
   "cell_type": "code",
   "source": [
    "def get_loaders() -> tuple[DataLoader, DataLoader]:\n",
    "    batch_size = 32\n",
    "    train_images_dir = os.path.join(\"data\", \"train\", \"images\")\n",
    "    valid_images_dir = os.path.join(\"data\", \"valid\", \"images\")\n",
    "    transform = transforms.Compose([\n",
    "        transforms.Resize((224, 224)),\n",
    "        transforms.ToTensor()\n",
    "    ])\n",
    "    train_dataset = CrackDataset(train_images_dir, transform=transform)\n",
    "    valid_dataset = CrackDataset(valid_images_dir, transform=transform)\n",
    "    train_loader = DataLoader(train_dataset, batch_size=batch_size, shuffle=True)\n",
    "    valid_loader = DataLoader(valid_dataset, batch_size=batch_size, shuffle=False)\n",
    "    \n",
    "    return train_loader, valid_loader"
   ],
   "id": "4fc253bfc70ece8a",
   "outputs": [],
   "execution_count": 4
  },
  {
   "metadata": {
    "ExecuteTime": {
     "end_time": "2024-08-05T13:57:24.719805Z",
     "start_time": "2024-08-05T13:57:24.712719Z"
    }
   },
   "cell_type": "code",
   "source": [
    "def get_loop_objects(\n",
    "        conv_out_shapes: tuple[int, int],\n",
    "        linear_layers_features: int\n",
    ") -> tuple[CustomClassifier, EarlyStopping, torch.nn.BCEWithLogitsLoss, optim.Adam, torch.device]:\n",
    "    model = CustomClassifier(conv_out_shapes=conv_out_shapes, linear_layers_features=linear_layers_features)\n",
    "    criterion = torch.nn.BCEWithLogitsLoss()\n",
    "    optimizer = optim.Adam(model.parameters(), lr=1e-4)\n",
    "    early_stopping = EarlyStopping(patience=7, verbose=True, delta=0)\n",
    "    device = torch.device(\"cuda\" if torch.cuda.is_available() else \"cpu\")\n",
    "    \n",
    "    model.to(device)\n",
    "    \n",
    "    return model, early_stopping, criterion, optimizer, device"
   ],
   "id": "960c275d62b58873",
   "outputs": [],
   "execution_count": 5
  },
  {
   "metadata": {
    "ExecuteTime": {
     "end_time": "2024-08-05T13:57:24.734224Z",
     "start_time": "2024-08-05T13:57:24.722322Z"
    }
   },
   "cell_type": "code",
   "source": [
    "def run_training_loop(\n",
    "        conv_out_shapes: tuple[int, int], \n",
    "        linear_layers_features: int,\n",
    "        checkpoint_path: str\n",
    ") -> dict:\n",
    "    train_loader, valid_loader = get_loaders()\n",
    "    model, early_stopping, criterion, optimizer, device = get_loop_objects(conv_out_shapes, linear_layers_features)\n",
    "    history = {\n",
    "        \"train_loss\": [],\n",
    "        \"valid_loss\": []\n",
    "    }\n",
    "    \n",
    "    for epoch in range(num_epochs):\n",
    "        model.train()\n",
    "        train_loss = 0.0\n",
    "        correct_train = 0\n",
    "        total_train = 0\n",
    "    \n",
    "        with tqdm(train_loader, unit=\"batch\") as tepoch:\n",
    "            tepoch.set_description(f\"Epoch {epoch+1}/{num_epochs}\")\n",
    "    \n",
    "            for images, labels in tepoch:\n",
    "                images, labels = images.to(device), labels.to(device).float()\n",
    "    \n",
    "                optimizer.zero_grad()\n",
    "    \n",
    "                # squeeze because the outputs are (BATCH_SIZE, 1) shape, and should be of (BATCH_SIZE,) shape\n",
    "                outputs = model(images).squeeze(1)\n",
    "                loss = criterion(outputs, labels)\n",
    "    \n",
    "                loss.backward()\n",
    "                optimizer.step()\n",
    "    \n",
    "                train_loss += loss.item()\n",
    "                predicted = (outputs > 0.5).float()\n",
    "                correct_train += predicted.eq(labels).sum().item()\n",
    "                total_train += labels.size(0)\n",
    "    \n",
    "                tepoch.set_postfix(loss=train_loss/total_train, accuracy=100.*correct_train/total_train)\n",
    "    \n",
    "        train_loss /= len(train_loader.dataset)\n",
    "        history[\"train_loss\"].append(train_loss)\n",
    "    \n",
    "        model.eval()\n",
    "    \n",
    "        valid_loss = 0.0\n",
    "        correct_valid = 0\n",
    "        total_valid = 0\n",
    "    \n",
    "        with torch.no_grad():\n",
    "            for images, labels in valid_loader:\n",
    "                images, labels = images.to(device), labels.to(device).float()\n",
    "                outputs = model(images).squeeze(1)\n",
    "                loss = criterion(outputs, labels)\n",
    "                valid_loss += loss.item()\n",
    "                predicted = (outputs > 0.5).float()\n",
    "                correct_valid += predicted.eq(labels).sum().item()\n",
    "                total_valid += labels.size(0)\n",
    "    \n",
    "        valid_loss /= len(valid_loader.dataset)\n",
    "        history[\"valid_loss\"].append(valid_loss)\n",
    "    \n",
    "        valid_accuracy = 100. * correct_valid / total_valid\n",
    "    \n",
    "        print(f\"Validation Loss: {valid_loss:.4f}, Validation Accuracy: {valid_accuracy:.2f}%\")\n",
    "        early_stopping(valid_loss, model, path=checkpoint_path)\n",
    "    \n",
    "        if early_stopping.early_stop:\n",
    "            print(\"Early stopping triggered\")\n",
    "            break\n",
    "            \n",
    "    return history"
   ],
   "id": "4c763004ffcee803",
   "outputs": [],
   "execution_count": 6
  },
  {
   "metadata": {
    "ExecuteTime": {
     "end_time": "2024-08-05T15:51:04.417328Z",
     "start_time": "2024-08-05T13:57:24.735734Z"
    }
   },
   "cell_type": "code",
   "source": [
    "model_results = []\n",
    "param_combinations = [\n",
    "    {\n",
    "        \"conv_out_shapes\": (64, 128),\n",
    "        \"linear_layers_features\": 256,\n",
    "    },\n",
    "    {\n",
    "        \"conv_out_shapes\": (128, 256),\n",
    "        \"linear_layers_features\": 512,\n",
    "    },\n",
    "    {\n",
    "        \"conv_out_shapes\": (64, 128),\n",
    "        \"linear_layers_features\": 512,\n",
    "    },\n",
    "    {\n",
    "        \"conv_out_shapes\": (64, 128),\n",
    "        \"linear_layers_features\": 1024,\n",
    "    },\n",
    "    {\n",
    "        \"conv_out_shapes\": (128, 256),\n",
    "        \"linear_layers_features\": 1024,\n",
    "    },\n",
    "]\n",
    "\n",
    "for param_combination in param_combinations:\n",
    "    model_custom_path = \"_\".join(map(str, param_combination[\"conv_out_shapes\"]))\n",
    "    model_custom_path = f\"{param_combination['linear_layers_features']}_{model_custom_path}\"\n",
    "    checkpoint_path = os.path.join(\"checkpoints\", f\"custom_classifier_{model_custom_path}.pt\")\n",
    "    history = run_training_loop(\n",
    "        param_combination[\"conv_out_shapes\"], \n",
    "        param_combination[\"linear_layers_features\"], \n",
    "        checkpoint_path\n",
    "    )\n",
    "    \n",
    "    model_results.append((checkpoint_path, history))\n",
    "    torch.cuda.empty_cache()"
   ],
   "id": "1aff6d8e9e6a680b",
   "outputs": [
    {
     "name": "stderr",
     "output_type": "stream",
     "text": [
      "Epoch 1/25: 100%|██████████| 301/301 [01:29<00:00,  3.38batch/s, accuracy=91.9, loss=0.00678]\n"
     ]
    },
    {
     "name": "stdout",
     "output_type": "stream",
     "text": [
      "Validation Loss: 0.0063, Validation Accuracy: 93.33%\n",
      "Validation loss decreased (inf --> 0.006259).  Saving model ...\n"
     ]
    },
    {
     "name": "stderr",
     "output_type": "stream",
     "text": [
      "Epoch 2/25: 100%|██████████| 301/301 [01:18<00:00,  3.83batch/s, accuracy=93.5, loss=0.00572]\n"
     ]
    },
    {
     "name": "stdout",
     "output_type": "stream",
     "text": [
      "Validation Loss: 0.0058, Validation Accuracy: 91.09%\n",
      "Validation loss decreased (0.006259 --> 0.005835).  Saving model ...\n"
     ]
    },
    {
     "name": "stderr",
     "output_type": "stream",
     "text": [
      "Epoch 3/25: 100%|██████████| 301/301 [01:18<00:00,  3.83batch/s, accuracy=93.6, loss=0.00532]\n"
     ]
    },
    {
     "name": "stdout",
     "output_type": "stream",
     "text": [
      "Validation Loss: 0.0065, Validation Accuracy: 93.22%\n",
      "EarlyStopping counter: 1 out of 7\n"
     ]
    },
    {
     "name": "stderr",
     "output_type": "stream",
     "text": [
      "Epoch 4/25: 100%|██████████| 301/301 [01:20<00:00,  3.72batch/s, accuracy=94.6, loss=0.00466]\n"
     ]
    },
    {
     "name": "stdout",
     "output_type": "stream",
     "text": [
      "Validation Loss: 0.0047, Validation Accuracy: 94.04%\n",
      "Validation loss decreased (0.005835 --> 0.004718).  Saving model ...\n"
     ]
    },
    {
     "name": "stderr",
     "output_type": "stream",
     "text": [
      "Epoch 5/25: 100%|██████████| 301/301 [01:25<00:00,  3.53batch/s, accuracy=95.3, loss=0.00414]\n"
     ]
    },
    {
     "name": "stdout",
     "output_type": "stream",
     "text": [
      "Validation Loss: 0.0044, Validation Accuracy: 94.87%\n",
      "Validation loss decreased (0.004718 --> 0.004383).  Saving model ...\n"
     ]
    },
    {
     "name": "stderr",
     "output_type": "stream",
     "text": [
      "Epoch 6/25: 100%|██████████| 301/301 [01:25<00:00,  3.50batch/s, accuracy=96.3, loss=0.00341]\n"
     ]
    },
    {
     "name": "stdout",
     "output_type": "stream",
     "text": [
      "Validation Loss: 0.0041, Validation Accuracy: 95.28%\n",
      "Validation loss decreased (0.004383 --> 0.004088).  Saving model ...\n"
     ]
    },
    {
     "name": "stderr",
     "output_type": "stream",
     "text": [
      "Epoch 7/25: 100%|██████████| 301/301 [01:24<00:00,  3.55batch/s, accuracy=97, loss=0.00282]  \n"
     ]
    },
    {
     "name": "stdout",
     "output_type": "stream",
     "text": [
      "Validation Loss: 0.0042, Validation Accuracy: 95.52%\n",
      "EarlyStopping counter: 1 out of 7\n"
     ]
    },
    {
     "name": "stderr",
     "output_type": "stream",
     "text": [
      "Epoch 8/25: 100%|██████████| 301/301 [01:23<00:00,  3.59batch/s, accuracy=97.7, loss=0.00224]\n"
     ]
    },
    {
     "name": "stdout",
     "output_type": "stream",
     "text": [
      "Validation Loss: 0.0041, Validation Accuracy: 96.34%\n",
      "Validation loss decreased (0.004088 --> 0.004053).  Saving model ...\n"
     ]
    },
    {
     "name": "stderr",
     "output_type": "stream",
     "text": [
      "Epoch 9/25: 100%|██████████| 301/301 [01:23<00:00,  3.59batch/s, accuracy=98.1, loss=0.00187]\n"
     ]
    },
    {
     "name": "stdout",
     "output_type": "stream",
     "text": [
      "Validation Loss: 0.0040, Validation Accuracy: 96.28%\n",
      "Validation loss decreased (0.004053 --> 0.003962).  Saving model ...\n"
     ]
    },
    {
     "name": "stderr",
     "output_type": "stream",
     "text": [
      "Epoch 10/25: 100%|██████████| 301/301 [01:24<00:00,  3.54batch/s, accuracy=98.5, loss=0.0015] \n"
     ]
    },
    {
     "name": "stdout",
     "output_type": "stream",
     "text": [
      "Validation Loss: 0.0038, Validation Accuracy: 96.46%\n",
      "Validation loss decreased (0.003962 --> 0.003803).  Saving model ...\n"
     ]
    },
    {
     "name": "stderr",
     "output_type": "stream",
     "text": [
      "Epoch 11/25: 100%|██████████| 301/301 [01:24<00:00,  3.56batch/s, accuracy=98.6, loss=0.00147]\n"
     ]
    },
    {
     "name": "stdout",
     "output_type": "stream",
     "text": [
      "Validation Loss: 0.0043, Validation Accuracy: 96.81%\n",
      "EarlyStopping counter: 1 out of 7\n"
     ]
    },
    {
     "name": "stderr",
     "output_type": "stream",
     "text": [
      "Epoch 12/25: 100%|██████████| 301/301 [01:24<00:00,  3.58batch/s, accuracy=99.1, loss=0.000886]\n"
     ]
    },
    {
     "name": "stdout",
     "output_type": "stream",
     "text": [
      "Validation Loss: 0.0041, Validation Accuracy: 96.87%\n",
      "EarlyStopping counter: 2 out of 7\n"
     ]
    },
    {
     "name": "stderr",
     "output_type": "stream",
     "text": [
      "Epoch 13/25: 100%|██████████| 301/301 [01:24<00:00,  3.57batch/s, accuracy=99.5, loss=0.000648]\n"
     ]
    },
    {
     "name": "stdout",
     "output_type": "stream",
     "text": [
      "Validation Loss: 0.0042, Validation Accuracy: 96.99%\n",
      "EarlyStopping counter: 3 out of 7\n"
     ]
    },
    {
     "name": "stderr",
     "output_type": "stream",
     "text": [
      "Epoch 14/25: 100%|██████████| 301/301 [01:20<00:00,  3.75batch/s, accuracy=99.4, loss=0.000679]\n"
     ]
    },
    {
     "name": "stdout",
     "output_type": "stream",
     "text": [
      "Validation Loss: 0.0039, Validation Accuracy: 97.11%\n",
      "EarlyStopping counter: 4 out of 7\n"
     ]
    },
    {
     "name": "stderr",
     "output_type": "stream",
     "text": [
      "Epoch 15/25: 100%|██████████| 301/301 [01:21<00:00,  3.69batch/s, accuracy=99.3, loss=0.000737]\n"
     ]
    },
    {
     "name": "stdout",
     "output_type": "stream",
     "text": [
      "Validation Loss: 0.0045, Validation Accuracy: 96.52%\n",
      "EarlyStopping counter: 5 out of 7\n"
     ]
    },
    {
     "name": "stderr",
     "output_type": "stream",
     "text": [
      "Epoch 16/25: 100%|██████████| 301/301 [01:26<00:00,  3.46batch/s, accuracy=99.5, loss=0.000664]\n"
     ]
    },
    {
     "name": "stdout",
     "output_type": "stream",
     "text": [
      "Validation Loss: 0.0046, Validation Accuracy: 97.11%\n",
      "EarlyStopping counter: 6 out of 7\n"
     ]
    },
    {
     "name": "stderr",
     "output_type": "stream",
     "text": [
      "Epoch 17/25: 100%|██████████| 301/301 [01:27<00:00,  3.44batch/s, accuracy=99.7, loss=0.000392]\n"
     ]
    },
    {
     "name": "stdout",
     "output_type": "stream",
     "text": [
      "Validation Loss: 0.0045, Validation Accuracy: 96.28%\n",
      "EarlyStopping counter: 7 out of 7\n",
      "Early stopping triggered\n"
     ]
    },
    {
     "name": "stderr",
     "output_type": "stream",
     "text": [
      "Epoch 1/25: 100%|██████████| 301/301 [02:22<00:00,  2.11batch/s, accuracy=91.5, loss=0.0075] \n"
     ]
    },
    {
     "name": "stdout",
     "output_type": "stream",
     "text": [
      "Validation Loss: 0.0060, Validation Accuracy: 93.27%\n",
      "Validation loss decreased (inf --> 0.005964).  Saving model ...\n"
     ]
    },
    {
     "name": "stderr",
     "output_type": "stream",
     "text": [
      "Epoch 2/25: 100%|██████████| 301/301 [02:14<00:00,  2.24batch/s, accuracy=93.3, loss=0.00575]\n"
     ]
    },
    {
     "name": "stdout",
     "output_type": "stream",
     "text": [
      "Validation Loss: 0.0059, Validation Accuracy: 93.98%\n",
      "Validation loss decreased (0.005964 --> 0.005927).  Saving model ...\n"
     ]
    },
    {
     "name": "stderr",
     "output_type": "stream",
     "text": [
      "Epoch 3/25: 100%|██████████| 301/301 [02:05<00:00,  2.40batch/s, accuracy=94.7, loss=0.00494]\n"
     ]
    },
    {
     "name": "stdout",
     "output_type": "stream",
     "text": [
      "Validation Loss: 0.0065, Validation Accuracy: 91.56%\n",
      "EarlyStopping counter: 1 out of 7\n"
     ]
    },
    {
     "name": "stderr",
     "output_type": "stream",
     "text": [
      "Epoch 4/25: 100%|██████████| 301/301 [02:05<00:00,  2.40batch/s, accuracy=95.3, loss=0.00417]\n"
     ]
    },
    {
     "name": "stdout",
     "output_type": "stream",
     "text": [
      "Validation Loss: 0.0042, Validation Accuracy: 95.58%\n",
      "Validation loss decreased (0.005927 --> 0.004226).  Saving model ...\n"
     ]
    },
    {
     "name": "stderr",
     "output_type": "stream",
     "text": [
      "Epoch 5/25: 100%|██████████| 301/301 [02:05<00:00,  2.40batch/s, accuracy=96, loss=0.00362]  \n"
     ]
    },
    {
     "name": "stdout",
     "output_type": "stream",
     "text": [
      "Validation Loss: 0.0040, Validation Accuracy: 95.99%\n",
      "Validation loss decreased (0.004226 --> 0.004028).  Saving model ...\n"
     ]
    },
    {
     "name": "stderr",
     "output_type": "stream",
     "text": [
      "Epoch 6/25: 100%|██████████| 301/301 [02:06<00:00,  2.39batch/s, accuracy=97.2, loss=0.0026] \n"
     ]
    },
    {
     "name": "stdout",
     "output_type": "stream",
     "text": [
      "Validation Loss: 0.0042, Validation Accuracy: 95.04%\n",
      "EarlyStopping counter: 1 out of 7\n"
     ]
    },
    {
     "name": "stderr",
     "output_type": "stream",
     "text": [
      "Epoch 7/25: 100%|██████████| 301/301 [02:08<00:00,  2.34batch/s, accuracy=98, loss=0.00195]  \n"
     ]
    },
    {
     "name": "stdout",
     "output_type": "stream",
     "text": [
      "Validation Loss: 0.0041, Validation Accuracy: 96.34%\n",
      "EarlyStopping counter: 2 out of 7\n"
     ]
    },
    {
     "name": "stderr",
     "output_type": "stream",
     "text": [
      "Epoch 8/25: 100%|██████████| 301/301 [02:24<00:00,  2.09batch/s, accuracy=98.3, loss=0.0016] \n"
     ]
    },
    {
     "name": "stdout",
     "output_type": "stream",
     "text": [
      "Validation Loss: 0.0055, Validation Accuracy: 96.11%\n",
      "EarlyStopping counter: 3 out of 7\n"
     ]
    },
    {
     "name": "stderr",
     "output_type": "stream",
     "text": [
      "Epoch 9/25: 100%|██████████| 301/301 [02:05<00:00,  2.39batch/s, accuracy=98.7, loss=0.00139]\n"
     ]
    },
    {
     "name": "stdout",
     "output_type": "stream",
     "text": [
      "Validation Loss: 0.0048, Validation Accuracy: 96.46%\n",
      "EarlyStopping counter: 4 out of 7\n"
     ]
    },
    {
     "name": "stderr",
     "output_type": "stream",
     "text": [
      "Epoch 10/25: 100%|██████████| 301/301 [02:04<00:00,  2.41batch/s, accuracy=99.1, loss=0.00101] \n"
     ]
    },
    {
     "name": "stdout",
     "output_type": "stream",
     "text": [
      "Validation Loss: 0.0039, Validation Accuracy: 96.58%\n",
      "Validation loss decreased (0.004028 --> 0.003859).  Saving model ...\n"
     ]
    },
    {
     "name": "stderr",
     "output_type": "stream",
     "text": [
      "Epoch 11/25: 100%|██████████| 301/301 [02:05<00:00,  2.40batch/s, accuracy=99, loss=0.00111]   \n"
     ]
    },
    {
     "name": "stdout",
     "output_type": "stream",
     "text": [
      "Validation Loss: 0.0044, Validation Accuracy: 95.81%\n",
      "EarlyStopping counter: 1 out of 7\n"
     ]
    },
    {
     "name": "stderr",
     "output_type": "stream",
     "text": [
      "Epoch 12/25: 100%|██████████| 301/301 [02:04<00:00,  2.41batch/s, accuracy=99.4, loss=0.000698]\n"
     ]
    },
    {
     "name": "stdout",
     "output_type": "stream",
     "text": [
      "Validation Loss: 0.0047, Validation Accuracy: 96.87%\n",
      "EarlyStopping counter: 2 out of 7\n"
     ]
    },
    {
     "name": "stderr",
     "output_type": "stream",
     "text": [
      "Epoch 13/25: 100%|██████████| 301/301 [02:04<00:00,  2.41batch/s, accuracy=99.1, loss=0.000982]\n"
     ]
    },
    {
     "name": "stdout",
     "output_type": "stream",
     "text": [
      "Validation Loss: 0.0040, Validation Accuracy: 96.46%\n",
      "EarlyStopping counter: 3 out of 7\n"
     ]
    },
    {
     "name": "stderr",
     "output_type": "stream",
     "text": [
      "Epoch 14/25: 100%|██████████| 301/301 [02:05<00:00,  2.40batch/s, accuracy=99.6, loss=0.000517]\n"
     ]
    },
    {
     "name": "stdout",
     "output_type": "stream",
     "text": [
      "Validation Loss: 0.0069, Validation Accuracy: 96.64%\n",
      "EarlyStopping counter: 4 out of 7\n"
     ]
    },
    {
     "name": "stderr",
     "output_type": "stream",
     "text": [
      "Epoch 15/25: 100%|██████████| 301/301 [02:04<00:00,  2.41batch/s, accuracy=99.7, loss=0.000285]\n"
     ]
    },
    {
     "name": "stdout",
     "output_type": "stream",
     "text": [
      "Validation Loss: 0.0067, Validation Accuracy: 96.64%\n",
      "EarlyStopping counter: 5 out of 7\n"
     ]
    },
    {
     "name": "stderr",
     "output_type": "stream",
     "text": [
      "Epoch 16/25: 100%|██████████| 301/301 [02:05<00:00,  2.39batch/s, accuracy=99.4, loss=0.000608]\n"
     ]
    },
    {
     "name": "stdout",
     "output_type": "stream",
     "text": [
      "Validation Loss: 0.0050, Validation Accuracy: 95.46%\n",
      "EarlyStopping counter: 6 out of 7\n"
     ]
    },
    {
     "name": "stderr",
     "output_type": "stream",
     "text": [
      "Epoch 17/25: 100%|██████████| 301/301 [02:05<00:00,  2.40batch/s, accuracy=99.2, loss=0.00085] \n"
     ]
    },
    {
     "name": "stdout",
     "output_type": "stream",
     "text": [
      "Validation Loss: 0.0051, Validation Accuracy: 96.34%\n",
      "EarlyStopping counter: 7 out of 7\n",
      "Early stopping triggered\n"
     ]
    },
    {
     "name": "stderr",
     "output_type": "stream",
     "text": [
      "Epoch 1/25: 100%|██████████| 301/301 [01:23<00:00,  3.61batch/s, accuracy=91.4, loss=0.00743]\n"
     ]
    },
    {
     "name": "stdout",
     "output_type": "stream",
     "text": [
      "Validation Loss: 0.0062, Validation Accuracy: 93.75%\n",
      "Validation loss decreased (inf --> 0.006166).  Saving model ...\n"
     ]
    },
    {
     "name": "stderr",
     "output_type": "stream",
     "text": [
      "Epoch 2/25: 100%|██████████| 301/301 [01:23<00:00,  3.61batch/s, accuracy=93.3, loss=0.00578]\n"
     ]
    },
    {
     "name": "stdout",
     "output_type": "stream",
     "text": [
      "Validation Loss: 0.0055, Validation Accuracy: 93.81%\n",
      "Validation loss decreased (0.006166 --> 0.005550).  Saving model ...\n"
     ]
    },
    {
     "name": "stderr",
     "output_type": "stream",
     "text": [
      "Epoch 3/25: 100%|██████████| 301/301 [01:23<00:00,  3.61batch/s, accuracy=94.1, loss=0.00509]\n"
     ]
    },
    {
     "name": "stdout",
     "output_type": "stream",
     "text": [
      "Validation Loss: 0.0055, Validation Accuracy: 92.04%\n",
      "Validation loss decreased (0.005550 --> 0.005533).  Saving model ...\n"
     ]
    },
    {
     "name": "stderr",
     "output_type": "stream",
     "text": [
      "Epoch 4/25: 100%|██████████| 301/301 [01:23<00:00,  3.62batch/s, accuracy=94.6, loss=0.00451]\n"
     ]
    },
    {
     "name": "stdout",
     "output_type": "stream",
     "text": [
      "Validation Loss: 0.0050, Validation Accuracy: 94.40%\n",
      "Validation loss decreased (0.005533 --> 0.004974).  Saving model ...\n"
     ]
    },
    {
     "name": "stderr",
     "output_type": "stream",
     "text": [
      "Epoch 5/25: 100%|██████████| 301/301 [01:23<00:00,  3.62batch/s, accuracy=95.7, loss=0.0037] \n"
     ]
    },
    {
     "name": "stdout",
     "output_type": "stream",
     "text": [
      "Validation Loss: 0.0042, Validation Accuracy: 94.81%\n",
      "Validation loss decreased (0.004974 --> 0.004241).  Saving model ...\n"
     ]
    },
    {
     "name": "stderr",
     "output_type": "stream",
     "text": [
      "Epoch 6/25: 100%|██████████| 301/301 [01:23<00:00,  3.62batch/s, accuracy=96.7, loss=0.00295]\n"
     ]
    },
    {
     "name": "stdout",
     "output_type": "stream",
     "text": [
      "Validation Loss: 0.0046, Validation Accuracy: 95.69%\n",
      "EarlyStopping counter: 1 out of 7\n"
     ]
    },
    {
     "name": "stderr",
     "output_type": "stream",
     "text": [
      "Epoch 7/25: 100%|██████████| 301/301 [01:25<00:00,  3.54batch/s, accuracy=97.4, loss=0.00249]\n"
     ]
    },
    {
     "name": "stdout",
     "output_type": "stream",
     "text": [
      "Validation Loss: 0.0039, Validation Accuracy: 96.52%\n",
      "Validation loss decreased (0.004241 --> 0.003930).  Saving model ...\n"
     ]
    },
    {
     "name": "stderr",
     "output_type": "stream",
     "text": [
      "Epoch 8/25: 100%|██████████| 301/301 [01:24<00:00,  3.57batch/s, accuracy=97.8, loss=0.00203]\n"
     ]
    },
    {
     "name": "stdout",
     "output_type": "stream",
     "text": [
      "Validation Loss: 0.0040, Validation Accuracy: 95.99%\n",
      "EarlyStopping counter: 1 out of 7\n"
     ]
    },
    {
     "name": "stderr",
     "output_type": "stream",
     "text": [
      "Epoch 9/25: 100%|██████████| 301/301 [01:23<00:00,  3.61batch/s, accuracy=97.8, loss=0.00201]\n"
     ]
    },
    {
     "name": "stdout",
     "output_type": "stream",
     "text": [
      "Validation Loss: 0.0066, Validation Accuracy: 89.85%\n",
      "EarlyStopping counter: 2 out of 7\n"
     ]
    },
    {
     "name": "stderr",
     "output_type": "stream",
     "text": [
      "Epoch 10/25: 100%|██████████| 301/301 [01:23<00:00,  3.60batch/s, accuracy=98.6, loss=0.00146]\n"
     ]
    },
    {
     "name": "stdout",
     "output_type": "stream",
     "text": [
      "Validation Loss: 0.0053, Validation Accuracy: 95.28%\n",
      "EarlyStopping counter: 3 out of 7\n"
     ]
    },
    {
     "name": "stderr",
     "output_type": "stream",
     "text": [
      "Epoch 11/25: 100%|██████████| 301/301 [01:25<00:00,  3.52batch/s, accuracy=98.9, loss=0.001]  \n"
     ]
    },
    {
     "name": "stdout",
     "output_type": "stream",
     "text": [
      "Validation Loss: 0.0056, Validation Accuracy: 96.58%\n",
      "EarlyStopping counter: 4 out of 7\n"
     ]
    },
    {
     "name": "stderr",
     "output_type": "stream",
     "text": [
      "Epoch 12/25: 100%|██████████| 301/301 [01:27<00:00,  3.45batch/s, accuracy=99.1, loss=0.000857]\n"
     ]
    },
    {
     "name": "stdout",
     "output_type": "stream",
     "text": [
      "Validation Loss: 0.0074, Validation Accuracy: 96.11%\n",
      "EarlyStopping counter: 5 out of 7\n"
     ]
    },
    {
     "name": "stderr",
     "output_type": "stream",
     "text": [
      "Epoch 13/25: 100%|██████████| 301/301 [01:26<00:00,  3.47batch/s, accuracy=99.3, loss=0.000734]\n"
     ]
    },
    {
     "name": "stdout",
     "output_type": "stream",
     "text": [
      "Validation Loss: 0.0053, Validation Accuracy: 96.28%\n",
      "EarlyStopping counter: 6 out of 7\n"
     ]
    },
    {
     "name": "stderr",
     "output_type": "stream",
     "text": [
      "Epoch 14/25: 100%|██████████| 301/301 [01:25<00:00,  3.54batch/s, accuracy=99.2, loss=0.000751]\n"
     ]
    },
    {
     "name": "stdout",
     "output_type": "stream",
     "text": [
      "Validation Loss: 0.0055, Validation Accuracy: 96.34%\n",
      "EarlyStopping counter: 7 out of 7\n",
      "Early stopping triggered\n"
     ]
    },
    {
     "name": "stderr",
     "output_type": "stream",
     "text": [
      "Epoch 1/25: 100%|██████████| 301/301 [01:44<00:00,  2.89batch/s, accuracy=91.8, loss=0.00709]\n"
     ]
    },
    {
     "name": "stdout",
     "output_type": "stream",
     "text": [
      "Validation Loss: 0.0059, Validation Accuracy: 93.69%\n",
      "Validation loss decreased (inf --> 0.005924).  Saving model ...\n"
     ]
    },
    {
     "name": "stderr",
     "output_type": "stream",
     "text": [
      "Epoch 2/25: 100%|██████████| 301/301 [01:44<00:00,  2.88batch/s, accuracy=93.3, loss=0.0057] \n"
     ]
    },
    {
     "name": "stdout",
     "output_type": "stream",
     "text": [
      "Validation Loss: 0.0059, Validation Accuracy: 93.98%\n",
      "Validation loss decreased (0.005924 --> 0.005892).  Saving model ...\n"
     ]
    },
    {
     "name": "stderr",
     "output_type": "stream",
     "text": [
      "Epoch 3/25: 100%|██████████| 301/301 [01:44<00:00,  2.89batch/s, accuracy=94.2, loss=0.00503]\n"
     ]
    },
    {
     "name": "stdout",
     "output_type": "stream",
     "text": [
      "Validation Loss: 0.0052, Validation Accuracy: 94.57%\n",
      "Validation loss decreased (0.005892 --> 0.005170).  Saving model ...\n"
     ]
    },
    {
     "name": "stderr",
     "output_type": "stream",
     "text": [
      "Epoch 4/25: 100%|██████████| 301/301 [01:40<00:00,  2.98batch/s, accuracy=95.2, loss=0.00429]\n"
     ]
    },
    {
     "name": "stdout",
     "output_type": "stream",
     "text": [
      "Validation Loss: 0.0048, Validation Accuracy: 94.34%\n",
      "Validation loss decreased (0.005170 --> 0.004798).  Saving model ...\n"
     ]
    },
    {
     "name": "stderr",
     "output_type": "stream",
     "text": [
      "Epoch 5/25: 100%|██████████| 301/301 [01:43<00:00,  2.91batch/s, accuracy=96.2, loss=0.00351]\n"
     ]
    },
    {
     "name": "stdout",
     "output_type": "stream",
     "text": [
      "Validation Loss: 0.0038, Validation Accuracy: 95.63%\n",
      "Validation loss decreased (0.004798 --> 0.003797).  Saving model ...\n"
     ]
    },
    {
     "name": "stderr",
     "output_type": "stream",
     "text": [
      "Epoch 6/25: 100%|██████████| 301/301 [01:43<00:00,  2.92batch/s, accuracy=97.2, loss=0.00254]\n"
     ]
    },
    {
     "name": "stdout",
     "output_type": "stream",
     "text": [
      "Validation Loss: 0.0041, Validation Accuracy: 95.22%\n",
      "EarlyStopping counter: 1 out of 7\n"
     ]
    },
    {
     "name": "stderr",
     "output_type": "stream",
     "text": [
      "Epoch 7/25: 100%|██████████| 301/301 [01:38<00:00,  3.05batch/s, accuracy=97.9, loss=0.00211]\n"
     ]
    },
    {
     "name": "stdout",
     "output_type": "stream",
     "text": [
      "Validation Loss: 0.0053, Validation Accuracy: 94.87%\n",
      "EarlyStopping counter: 2 out of 7\n"
     ]
    },
    {
     "name": "stderr",
     "output_type": "stream",
     "text": [
      "Epoch 8/25: 100%|██████████| 301/301 [01:39<00:00,  3.04batch/s, accuracy=97.3, loss=0.00251]\n"
     ]
    },
    {
     "name": "stdout",
     "output_type": "stream",
     "text": [
      "Validation Loss: 0.0049, Validation Accuracy: 94.22%\n",
      "EarlyStopping counter: 3 out of 7\n"
     ]
    },
    {
     "name": "stderr",
     "output_type": "stream",
     "text": [
      "Epoch 9/25: 100%|██████████| 301/301 [01:39<00:00,  3.04batch/s, accuracy=98.4, loss=0.00141]\n"
     ]
    },
    {
     "name": "stdout",
     "output_type": "stream",
     "text": [
      "Validation Loss: 0.0056, Validation Accuracy: 94.10%\n",
      "EarlyStopping counter: 4 out of 7\n"
     ]
    },
    {
     "name": "stderr",
     "output_type": "stream",
     "text": [
      "Epoch 10/25: 100%|██████████| 301/301 [01:42<00:00,  2.93batch/s, accuracy=98.9, loss=0.000983]\n"
     ]
    },
    {
     "name": "stdout",
     "output_type": "stream",
     "text": [
      "Validation Loss: 0.0050, Validation Accuracy: 96.40%\n",
      "EarlyStopping counter: 5 out of 7\n"
     ]
    },
    {
     "name": "stderr",
     "output_type": "stream",
     "text": [
      "Epoch 11/25: 100%|██████████| 301/301 [01:41<00:00,  2.97batch/s, accuracy=99, loss=0.000955]  \n"
     ]
    },
    {
     "name": "stdout",
     "output_type": "stream",
     "text": [
      "Validation Loss: 0.0053, Validation Accuracy: 96.17%\n",
      "EarlyStopping counter: 6 out of 7\n"
     ]
    },
    {
     "name": "stderr",
     "output_type": "stream",
     "text": [
      "Epoch 12/25: 100%|██████████| 301/301 [01:43<00:00,  2.91batch/s, accuracy=99.3, loss=0.000648]\n"
     ]
    },
    {
     "name": "stdout",
     "output_type": "stream",
     "text": [
      "Validation Loss: 0.0056, Validation Accuracy: 95.10%\n",
      "EarlyStopping counter: 7 out of 7\n",
      "Early stopping triggered\n"
     ]
    },
    {
     "name": "stderr",
     "output_type": "stream",
     "text": [
      "Epoch 1/25:   0%|          | 0/301 [00:01<?, ?batch/s]\n"
     ]
    },
    {
     "ename": "OutOfMemoryError",
     "evalue": "CUDA out of memory. Tried to allocate 3.06 GiB. GPU 0 has a total capacity of 12.00 GiB of which 627.00 MiB is free. Of the allocated memory 9.23 GiB is allocated by PyTorch, and 54.79 MiB is reserved by PyTorch but unallocated. If reserved but unallocated memory is large try setting PYTORCH_CUDA_ALLOC_CONF=expandable_segments:True to avoid fragmentation.  See documentation for Memory Management  (https://pytorch.org/docs/stable/notes/cuda.html#environment-variables)",
     "output_type": "error",
     "traceback": [
      "\u001B[1;31m---------------------------------------------------------------------------\u001B[0m",
      "\u001B[1;31mOutOfMemoryError\u001B[0m                          Traceback (most recent call last)",
      "Cell \u001B[1;32mIn[7], line 29\u001B[0m\n\u001B[0;32m     27\u001B[0m model_custom_path \u001B[38;5;241m=\u001B[39m \u001B[38;5;124mf\u001B[39m\u001B[38;5;124m\"\u001B[39m\u001B[38;5;132;01m{\u001B[39;00mparam_combination[\u001B[38;5;124m'\u001B[39m\u001B[38;5;124mlinear_layers_features\u001B[39m\u001B[38;5;124m'\u001B[39m]\u001B[38;5;132;01m}\u001B[39;00m\u001B[38;5;124m_\u001B[39m\u001B[38;5;132;01m{\u001B[39;00mmodel_custom_path\u001B[38;5;132;01m}\u001B[39;00m\u001B[38;5;124m\"\u001B[39m\n\u001B[0;32m     28\u001B[0m checkpoint_path \u001B[38;5;241m=\u001B[39m os\u001B[38;5;241m.\u001B[39mpath\u001B[38;5;241m.\u001B[39mjoin(\u001B[38;5;124m\"\u001B[39m\u001B[38;5;124mcheckpoints\u001B[39m\u001B[38;5;124m\"\u001B[39m, \u001B[38;5;124mf\u001B[39m\u001B[38;5;124m\"\u001B[39m\u001B[38;5;124mcustom_classifier_\u001B[39m\u001B[38;5;132;01m{\u001B[39;00mmodel_custom_path\u001B[38;5;132;01m}\u001B[39;00m\u001B[38;5;124m.pt\u001B[39m\u001B[38;5;124m\"\u001B[39m)\n\u001B[1;32m---> 29\u001B[0m history \u001B[38;5;241m=\u001B[39m run_training_loop(\n\u001B[0;32m     30\u001B[0m     param_combination[\u001B[38;5;124m\"\u001B[39m\u001B[38;5;124mconv_out_shapes\u001B[39m\u001B[38;5;124m\"\u001B[39m], \n\u001B[0;32m     31\u001B[0m     param_combination[\u001B[38;5;124m\"\u001B[39m\u001B[38;5;124mlinear_layers_features\u001B[39m\u001B[38;5;124m\"\u001B[39m], \n\u001B[0;32m     32\u001B[0m     checkpoint_path\n\u001B[0;32m     33\u001B[0m )\n\u001B[0;32m     35\u001B[0m model_results\u001B[38;5;241m.\u001B[39mappend((checkpoint_path, history))\n\u001B[0;32m     36\u001B[0m torch\u001B[38;5;241m.\u001B[39mcuda\u001B[38;5;241m.\u001B[39mempty_cache()\n",
      "Cell \u001B[1;32mIn[6], line 32\u001B[0m, in \u001B[0;36mrun_training_loop\u001B[1;34m(conv_out_shapes, linear_layers_features, checkpoint_path)\u001B[0m\n\u001B[0;32m     29\u001B[0m loss \u001B[38;5;241m=\u001B[39m criterion(outputs, labels)\n\u001B[0;32m     31\u001B[0m loss\u001B[38;5;241m.\u001B[39mbackward()\n\u001B[1;32m---> 32\u001B[0m optimizer\u001B[38;5;241m.\u001B[39mstep()\n\u001B[0;32m     34\u001B[0m train_loss \u001B[38;5;241m+\u001B[39m\u001B[38;5;241m=\u001B[39m loss\u001B[38;5;241m.\u001B[39mitem()\n\u001B[0;32m     35\u001B[0m predicted \u001B[38;5;241m=\u001B[39m (outputs \u001B[38;5;241m>\u001B[39m \u001B[38;5;241m0.5\u001B[39m)\u001B[38;5;241m.\u001B[39mfloat()\n",
      "File \u001B[1;32m~\\.conda\\envs\\crack_detection_torch_1\\Lib\\site-packages\\torch\\optim\\optimizer.py:484\u001B[0m, in \u001B[0;36mOptimizer.profile_hook_step.<locals>.wrapper\u001B[1;34m(*args, **kwargs)\u001B[0m\n\u001B[0;32m    479\u001B[0m         \u001B[38;5;28;01melse\u001B[39;00m:\n\u001B[0;32m    480\u001B[0m             \u001B[38;5;28;01mraise\u001B[39;00m \u001B[38;5;167;01mRuntimeError\u001B[39;00m(\n\u001B[0;32m    481\u001B[0m                 \u001B[38;5;124mf\u001B[39m\u001B[38;5;124m\"\u001B[39m\u001B[38;5;132;01m{\u001B[39;00mfunc\u001B[38;5;132;01m}\u001B[39;00m\u001B[38;5;124m must return None or a tuple of (new_args, new_kwargs), but got \u001B[39m\u001B[38;5;132;01m{\u001B[39;00mresult\u001B[38;5;132;01m}\u001B[39;00m\u001B[38;5;124m.\u001B[39m\u001B[38;5;124m\"\u001B[39m\n\u001B[0;32m    482\u001B[0m             )\n\u001B[1;32m--> 484\u001B[0m out \u001B[38;5;241m=\u001B[39m func(\u001B[38;5;241m*\u001B[39margs, \u001B[38;5;241m*\u001B[39m\u001B[38;5;241m*\u001B[39mkwargs)\n\u001B[0;32m    485\u001B[0m \u001B[38;5;28mself\u001B[39m\u001B[38;5;241m.\u001B[39m_optimizer_step_code()\n\u001B[0;32m    487\u001B[0m \u001B[38;5;66;03m# call optimizer step post hooks\u001B[39;00m\n",
      "File \u001B[1;32m~\\.conda\\envs\\crack_detection_torch_1\\Lib\\site-packages\\torch\\optim\\optimizer.py:89\u001B[0m, in \u001B[0;36m_use_grad_for_differentiable.<locals>._use_grad\u001B[1;34m(self, *args, **kwargs)\u001B[0m\n\u001B[0;32m     87\u001B[0m     torch\u001B[38;5;241m.\u001B[39mset_grad_enabled(\u001B[38;5;28mself\u001B[39m\u001B[38;5;241m.\u001B[39mdefaults[\u001B[38;5;124m\"\u001B[39m\u001B[38;5;124mdifferentiable\u001B[39m\u001B[38;5;124m\"\u001B[39m])\n\u001B[0;32m     88\u001B[0m     torch\u001B[38;5;241m.\u001B[39m_dynamo\u001B[38;5;241m.\u001B[39mgraph_break()\n\u001B[1;32m---> 89\u001B[0m     ret \u001B[38;5;241m=\u001B[39m func(\u001B[38;5;28mself\u001B[39m, \u001B[38;5;241m*\u001B[39margs, \u001B[38;5;241m*\u001B[39m\u001B[38;5;241m*\u001B[39mkwargs)\n\u001B[0;32m     90\u001B[0m \u001B[38;5;28;01mfinally\u001B[39;00m:\n\u001B[0;32m     91\u001B[0m     torch\u001B[38;5;241m.\u001B[39m_dynamo\u001B[38;5;241m.\u001B[39mgraph_break()\n",
      "File \u001B[1;32m~\\.conda\\envs\\crack_detection_torch_1\\Lib\\site-packages\\torch\\optim\\adam.py:216\u001B[0m, in \u001B[0;36mAdam.step\u001B[1;34m(self, closure)\u001B[0m\n\u001B[0;32m    213\u001B[0m     state_steps: List[Tensor] \u001B[38;5;241m=\u001B[39m []\n\u001B[0;32m    214\u001B[0m     beta1, beta2 \u001B[38;5;241m=\u001B[39m group[\u001B[38;5;124m\"\u001B[39m\u001B[38;5;124mbetas\u001B[39m\u001B[38;5;124m\"\u001B[39m]\n\u001B[1;32m--> 216\u001B[0m     has_complex \u001B[38;5;241m=\u001B[39m \u001B[38;5;28mself\u001B[39m\u001B[38;5;241m.\u001B[39m_init_group(\n\u001B[0;32m    217\u001B[0m         group,\n\u001B[0;32m    218\u001B[0m         params_with_grad,\n\u001B[0;32m    219\u001B[0m         grads,\n\u001B[0;32m    220\u001B[0m         exp_avgs,\n\u001B[0;32m    221\u001B[0m         exp_avg_sqs,\n\u001B[0;32m    222\u001B[0m         max_exp_avg_sqs,\n\u001B[0;32m    223\u001B[0m         state_steps,\n\u001B[0;32m    224\u001B[0m     )\n\u001B[0;32m    226\u001B[0m     adam(\n\u001B[0;32m    227\u001B[0m         params_with_grad,\n\u001B[0;32m    228\u001B[0m         grads,\n\u001B[1;32m   (...)\u001B[0m\n\u001B[0;32m    246\u001B[0m         found_inf\u001B[38;5;241m=\u001B[39m\u001B[38;5;28mgetattr\u001B[39m(\u001B[38;5;28mself\u001B[39m, \u001B[38;5;124m\"\u001B[39m\u001B[38;5;124mfound_inf\u001B[39m\u001B[38;5;124m\"\u001B[39m, \u001B[38;5;28;01mNone\u001B[39;00m),\n\u001B[0;32m    247\u001B[0m     )\n\u001B[0;32m    249\u001B[0m \u001B[38;5;28;01mreturn\u001B[39;00m loss\n",
      "File \u001B[1;32m~\\.conda\\envs\\crack_detection_torch_1\\Lib\\site-packages\\torch\\optim\\adam.py:160\u001B[0m, in \u001B[0;36mAdam._init_group\u001B[1;34m(self, group, params_with_grad, grads, exp_avgs, exp_avg_sqs, max_exp_avg_sqs, state_steps)\u001B[0m\n\u001B[0;32m    156\u001B[0m state[\u001B[38;5;124m\"\u001B[39m\u001B[38;5;124mexp_avg\u001B[39m\u001B[38;5;124m\"\u001B[39m] \u001B[38;5;241m=\u001B[39m torch\u001B[38;5;241m.\u001B[39mzeros_like(\n\u001B[0;32m    157\u001B[0m     p, memory_format\u001B[38;5;241m=\u001B[39mtorch\u001B[38;5;241m.\u001B[39mpreserve_format\n\u001B[0;32m    158\u001B[0m )\n\u001B[0;32m    159\u001B[0m \u001B[38;5;66;03m# Exponential moving average of squared gradient values\u001B[39;00m\n\u001B[1;32m--> 160\u001B[0m state[\u001B[38;5;124m\"\u001B[39m\u001B[38;5;124mexp_avg_sq\u001B[39m\u001B[38;5;124m\"\u001B[39m] \u001B[38;5;241m=\u001B[39m torch\u001B[38;5;241m.\u001B[39mzeros_like(\n\u001B[0;32m    161\u001B[0m     p, memory_format\u001B[38;5;241m=\u001B[39mtorch\u001B[38;5;241m.\u001B[39mpreserve_format\n\u001B[0;32m    162\u001B[0m )\n\u001B[0;32m    163\u001B[0m \u001B[38;5;28;01mif\u001B[39;00m group[\u001B[38;5;124m\"\u001B[39m\u001B[38;5;124mamsgrad\u001B[39m\u001B[38;5;124m\"\u001B[39m]:\n\u001B[0;32m    164\u001B[0m     \u001B[38;5;66;03m# Maintains max of all exp. moving avg. of sq. grad. values\u001B[39;00m\n\u001B[0;32m    165\u001B[0m     state[\u001B[38;5;124m\"\u001B[39m\u001B[38;5;124mmax_exp_avg_sq\u001B[39m\u001B[38;5;124m\"\u001B[39m] \u001B[38;5;241m=\u001B[39m torch\u001B[38;5;241m.\u001B[39mzeros_like(\n\u001B[0;32m    166\u001B[0m         p, memory_format\u001B[38;5;241m=\u001B[39mtorch\u001B[38;5;241m.\u001B[39mpreserve_format\n\u001B[0;32m    167\u001B[0m     )\n",
      "\u001B[1;31mOutOfMemoryError\u001B[0m: CUDA out of memory. Tried to allocate 3.06 GiB. GPU 0 has a total capacity of 12.00 GiB of which 627.00 MiB is free. Of the allocated memory 9.23 GiB is allocated by PyTorch, and 54.79 MiB is reserved by PyTorch but unallocated. If reserved but unallocated memory is large try setting PYTORCH_CUDA_ALLOC_CONF=expandable_segments:True to avoid fragmentation.  See documentation for Memory Management  (https://pytorch.org/docs/stable/notes/cuda.html#environment-variables)"
     ]
    }
   ],
   "execution_count": 7
  },
  {
   "metadata": {
    "ExecuteTime": {
     "end_time": "2024-08-05T15:51:04.420336Z",
     "start_time": "2024-08-05T15:51:04.420336Z"
    }
   },
   "cell_type": "code",
   "source": [
    "for key, (_, history) in model_results.items():\n",
    "    plt.figure(figsize=(10, 5))\n",
    "    plt.plot(history[\"train_loss\"], label=\"Training Loss\")\n",
    "    plt.plot(history[\"valid_loss\"], label=\"Validation Loss\")\n",
    "    plt.title(\"Training vs Validation Loss\")\n",
    "    plt.xlabel(\"Epoch\")\n",
    "    plt.ylabel(\"Loss\")\n",
    "    plt.legend()\n",
    "    plt.show()"
   ],
   "id": "478655c3ca634b0c",
   "outputs": [],
   "execution_count": null
  }
 ],
 "metadata": {
  "kernelspec": {
   "display_name": "Python (crack_detection_torch_1)",
   "language": "python",
   "name": "crack_detection_torch_1"
  },
  "language_info": {
   "codemirror_mode": {
    "name": "ipython",
    "version": 2
   },
   "file_extension": ".py",
   "mimetype": "text/x-python",
   "name": "python",
   "nbconvert_exporter": "python",
   "pygments_lexer": "ipython2",
   "version": "2.7.6"
  }
 },
 "nbformat": 4,
 "nbformat_minor": 5
}
