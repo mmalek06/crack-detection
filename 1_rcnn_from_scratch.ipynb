{
 "cells": [
  {
   "cell_type": "code",
   "id": "initial_id",
   "metadata": {
    "collapsed": true,
    "ExecuteTime": {
     "end_time": "2024-08-03T12:46:59.291245Z",
     "start_time": "2024-08-03T12:46:55.096417Z"
    }
   },
   "source": [
    "import os\n",
    "import torch\n",
    "import torch.nn as nn\n",
    "import torch.optim as optim\n",
    "\n",
    "from tqdm import tqdm\n",
    "from torchvision import transforms\n",
    "from torch.utils.data import DataLoader\n",
    "\n",
    "from helpers.datasets import CrackDataset, collate_variable_size_bboxes\n",
    "from helpers.early_stopping import EarlyStopping\n",
    "from helpers.selective_search import generate_proposals, get_label_for_proposal, get_best_bbox_for_proposal"
   ],
   "outputs": [],
   "execution_count": 1
  },
  {
   "metadata": {
    "ExecuteTime": {
     "end_time": "2024-08-03T12:47:01.207704Z",
     "start_time": "2024-08-03T12:46:59.293252Z"
    }
   },
   "cell_type": "code",
   "source": [
    "device = torch.device(\"cuda\" if torch.cuda.is_available() else \"cpu\")\n",
    "\n",
    "\n",
    "class BackboneNetwork(nn.Module):\n",
    "    def __init__(self):\n",
    "        super().__init__()\n",
    "        \n",
    "        self.features = nn.Sequential(\n",
    "            nn.Conv2d(3, 64, kernel_size=3, stride=1, padding=1),\n",
    "            nn.ReLU(inplace=True),\n",
    "            nn.MaxPool2d(kernel_size=2, stride=2),\n",
    "            nn.Conv2d(64, 128, kernel_size=3, stride=1, padding=1),\n",
    "            nn.ReLU(inplace=True),\n",
    "            nn.MaxPool2d(kernel_size=2, stride=2)\n",
    "        )\n",
    "\n",
    "    def forward(self, x):\n",
    "        x = self.features(x)\n",
    "        x = x.view(x.size(0), -1)\n",
    "        \n",
    "        return x\n",
    "\n",
    "\n",
    "backbone_model = BackboneNetwork().to(device)"
   ],
   "id": "8faa8afd93742238",
   "outputs": [],
   "execution_count": 2
  },
  {
   "metadata": {
    "ExecuteTime": {
     "end_time": "2024-08-03T12:47:09.118682Z",
     "start_time": "2024-08-03T12:47:05.202913Z"
    }
   },
   "cell_type": "code",
   "source": [
    "class RCNN(nn.Module):\n",
    "    def __init__(self, feature_extractor: nn.Module, in_shape: tuple[int, int], num_classes: int = 10):\n",
    "        super().__init__()\n",
    "        \n",
    "        self.feature_extractor = feature_extractor\n",
    "\n",
    "        with torch.no_grad():\n",
    "            dummy_input = torch.zeros(1, 3, in_shape[0], in_shape[1]).to(device)\n",
    "            feature_output = self.feature_extractor(dummy_input)\n",
    "            feature_size = feature_output.view(-1).size(0)\n",
    "        \n",
    "        self.classifier = nn.Sequential(\n",
    "            nn.Linear(feature_size, 512),\n",
    "            nn.ReLU(inplace=True),\n",
    "            nn.Linear(512, 512),\n",
    "            nn.ReLU(inplace=True),\n",
    "            nn.Linear(512, num_classes)\n",
    "        )\n",
    "        self.regressor = nn.Sequential(\n",
    "            nn.Linear(feature_size, 512),\n",
    "            nn.ReLU(inplace=True),\n",
    "            nn.Linear(512, 512),\n",
    "            nn.ReLU(inplace=True),\n",
    "            nn.Linear(512, 4)\n",
    "        )\n",
    "\n",
    "    def forward(self, x):\n",
    "        features = self.feature_extractor(x)\n",
    "        class_logits = self.classifier(features)\n",
    "        bbox_preds = self.regressor(features)\n",
    "        \n",
    "        return class_logits, bbox_preds\n",
    "\n",
    "\n",
    "rcnn_model = RCNN(backbone_model, (224, 224)).to(device)"
   ],
   "id": "5166731b1376a831",
   "outputs": [],
   "execution_count": 3
  },
  {
   "metadata": {
    "ExecuteTime": {
     "end_time": "2024-08-03T12:47:55.983063Z",
     "start_time": "2024-08-03T12:47:50.956813Z"
    }
   },
   "cell_type": "code",
   "source": [
    "def list_image_paths(directory: str) -> list[str]:\n",
    "    return [os.path.join(directory, file) for file in os.listdir(directory)]\n",
    "\n",
    "\n",
    "transform = transforms.Compose([\n",
    "    transforms.ToPILImage(),\n",
    "    transforms.Resize((224, 224)),\n",
    "    transforms.ToTensor()\n",
    "])\n",
    "criterion_class = nn.CrossEntropyLoss()\n",
    "criterion_bbox = nn.SmoothL1Loss()\n",
    "optimizer = optim.Adam(rcnn_model.parameters(), lr=0.001)\n",
    "train_coco_path = os.path.join(\"data\", \"train\", \"coco_annotations.json\")\n",
    "valid_coco_path = os.path.join(\"data\", \"valid\", \"coco_annotations.json\")\n",
    "train_images_dir = os.path.join(\"data\", \"train\", \"images\")\n",
    "valid_images_dir = os.path.join(\"data\", \"valid\", \"images\")\n",
    "train_dataset = CrackDataset(\n",
    "    train_coco_path,\n",
    "    train_images_dir\n",
    ")\n",
    "valid_dataset = CrackDataset(\n",
    "    valid_coco_path,\n",
    "    valid_images_dir\n",
    ")\n",
    "train_dataloader = DataLoader(\n",
    "    train_dataset, \n",
    "    batch_size=32, \n",
    "    shuffle=True, \n",
    "    num_workers=2, \n",
    "    collate_fn=collate_variable_size_bboxes\n",
    ")\n",
    "validation_dataloader = DataLoader(\n",
    "    valid_dataset, \n",
    "    batch_size=32, \n",
    "    shuffle=True, \n",
    "    num_workers=2,\n",
    "    collate_fn=collate_variable_size_bboxes\n",
    ")\n",
    "early_stopping = EarlyStopping(patience=7, verbose=True, delta=0)\n",
    "num_epochs = 30"
   ],
   "id": "d57468468044cd13",
   "outputs": [],
   "execution_count": 4
  },
  {
   "metadata": {
    "jupyter": {
     "is_executing": true
    },
    "ExecuteTime": {
     "start_time": "2024-08-03T12:48:35.206710Z"
    }
   },
   "cell_type": "code",
   "source": [
    "for epoch in range(num_epochs):\n",
    "    rcnn_model.train()\n",
    "\n",
    "    train_progress_bar = tqdm(enumerate(train_dataloader), total=len(train_dataloader), desc=f\"Epoch {epoch + 1}/{num_epochs}\")\n",
    "\n",
    "    for i, data in train_progress_bar:\n",
    "        image_paths, images, labels_list, stats_list = data\n",
    "        \n",
    "        for j in range(len(image_paths)):\n",
    "            image_path = image_paths[j]\n",
    "            image = images[j]\n",
    "            labels = labels_list[j].unsqueeze(0).to(device)\n",
    "            stats = stats_list[j].unsqueeze(0).to(device)\n",
    "            image = image.squeeze(0).numpy()\n",
    "            proposals = generate_proposals(image, transform)\n",
    "            batch_loss = 0.0\n",
    "    \n",
    "            for proposal, proposal_box in proposals:\n",
    "                proposal = proposal.unsqueeze(0).to(device)\n",
    "                \n",
    "                optimizer.zero_grad()\n",
    "    \n",
    "                class_logits, bbox_preds = rcnn_model(proposal)\n",
    "                aggregated_label = get_label_for_proposal(labels, torch.tensor(proposal_box, dtype=torch.long))\n",
    "                loss_class = criterion_class(class_logits, aggregated_label.unsqueeze(0))\n",
    "                best_stat = get_best_bbox_for_proposal(stats, bbox_preds)\n",
    "                loss_bbox = criterion_bbox(bbox_preds, best_stat)\n",
    "                loss = loss_class + loss_bbox\n",
    "                \n",
    "                loss.backward()\n",
    "                optimizer.step()\n",
    "    \n",
    "                batch_loss += loss.item()\n",
    "    \n",
    "        train_progress_bar.set_postfix(loss=batch_loss / len(proposals))\n",
    "\n",
    "    rcnn_model.eval()\n",
    "\n",
    "    val_loss = 0.0\n",
    "\n",
    "    with torch.no_grad():\n",
    "        for i, data in enumerate(validation_dataloader):\n",
    "            image, labels, stats = data\n",
    "            image = image.squeeze(0).numpy()\n",
    "            proposals = generate_proposals(image, transform)\n",
    "\n",
    "            for proposal, proposal_box in proposals:\n",
    "                proposal = proposal.unsqueeze(0)\n",
    "                class_logits, bbox_preds = rcnn_model(proposal)\n",
    "                aggregated_label = get_label_for_proposal(labels, torch.tensor(proposal_box, dtype=torch.long))\n",
    "                best_stat = get_best_bbox_for_proposal(stats, bbox_preds)\n",
    "                loss_class = criterion_class(class_logits, aggregated_label.unsqueeze(0))\n",
    "                loss_bbox = criterion_bbox(bbox_preds, best_stat)\n",
    "                val_loss += (loss_class + loss_bbox).item()\n",
    "\n",
    "    val_loss /= len(validation_dataloader)\n",
    "\n",
    "    print(f'Validation Loss: {val_loss:.6f}')\n",
    "    early_stopping(val_loss, rcnn_model, 'checkpoint.pth')\n",
    "\n",
    "    if early_stopping.early_stop:\n",
    "        print(\"Early stopping triggered. Stopping training.\")\n",
    "        break"
   ],
   "id": "80195587c758e95f",
   "outputs": [
    {
     "name": "stderr",
     "output_type": "stream",
     "text": [
      "Epoch 1/30:   0%|          | 0/301 [00:00<?, ?it/s]"
     ]
    }
   ],
   "execution_count": null
  },
  {
   "metadata": {},
   "cell_type": "code",
   "source": "",
   "id": "34b517dc2db79428",
   "outputs": [],
   "execution_count": null
  }
 ],
 "metadata": {
  "kernelspec": {
   "display_name": "Python 3",
   "language": "python",
   "name": "python3"
  },
  "language_info": {
   "codemirror_mode": {
    "name": "ipython",
    "version": 2
   },
   "file_extension": ".py",
   "mimetype": "text/x-python",
   "name": "python",
   "nbconvert_exporter": "python",
   "pygments_lexer": "ipython2",
   "version": "2.7.6"
  }
 },
 "nbformat": 4,
 "nbformat_minor": 5
}
