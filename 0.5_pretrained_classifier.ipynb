{
 "cells": [
  {
   "cell_type": "code",
   "id": "initial_id",
   "metadata": {
    "collapsed": true,
    "ExecuteTime": {
     "end_time": "2024-08-10T08:16:20.406691Z",
     "start_time": "2024-08-10T08:16:16.989203Z"
    }
   },
   "source": [
    "import os\n",
    "import torch\n",
    "\n",
    "from tqdm import tqdm\n",
    "from torch import optim\n",
    "from torchvision import transforms\n",
    "from torch.utils.data import DataLoader\n",
    "\n",
    "from helpers.classifier_with_pretrained_features import Resnext50BasedClassifier\n",
    "from helpers.datasets import CrackDatasetForClassification\n",
    "from helpers.early_stopping import EarlyStopping"
   ],
   "outputs": [],
   "execution_count": 1
  },
  {
   "metadata": {
    "ExecuteTime": {
     "end_time": "2024-08-10T08:16:22.762427Z",
     "start_time": "2024-08-10T08:16:22.756800Z"
    }
   },
   "cell_type": "code",
   "source": [
    "normalize = transforms.Normalize(mean=[0.485, 0.456, 0.406],\n",
    "                                 std=[0.229, 0.224, 0.225])\n",
    "transform = transforms.Compose([\n",
    "    transforms.Resize((224, 224)),\n",
    "    transforms.ToTensor(),\n",
    "    normalize\n",
    "])"
   ],
   "id": "639827a9be655ea8",
   "outputs": [],
   "execution_count": 3
  },
  {
   "metadata": {
    "ExecuteTime": {
     "end_time": "2024-08-10T08:16:22.768511Z",
     "start_time": "2024-08-10T08:16:22.762427Z"
    }
   },
   "cell_type": "code",
   "source": [
    "def get_loaders() -> tuple[DataLoader, DataLoader]:\n",
    "    batch_size = 32\n",
    "    train_images_dir = os.path.join(\"data\", \"train\", \"images\")\n",
    "    valid_images_dir = os.path.join(\"data\", \"valid\", \"images\")\n",
    "    transform = transforms.Compose([\n",
    "        transforms.Resize((224, 224)),\n",
    "        transforms.ToTensor()\n",
    "    ])\n",
    "    train_dataset = CrackDatasetForClassification(train_images_dir, transform=transform)\n",
    "    valid_dataset = CrackDatasetForClassification(valid_images_dir, transform=transform)\n",
    "    train_loader = DataLoader(train_dataset, batch_size=batch_size, shuffle=True)\n",
    "    valid_loader = DataLoader(valid_dataset, batch_size=batch_size, shuffle=False)\n",
    "\n",
    "    return train_loader, valid_loader"
   ],
   "id": "65353ef3ff74ead1",
   "outputs": [],
   "execution_count": 4
  },
  {
   "metadata": {
    "ExecuteTime": {
     "end_time": "2024-08-10T08:16:22.775262Z",
     "start_time": "2024-08-10T08:16:22.768511Z"
    }
   },
   "cell_type": "code",
   "source": [
    "def get_loop_objects() -> tuple[Resnext50BasedClassifier, EarlyStopping, torch.nn.BCEWithLogitsLoss, optim.Adam, torch.device]:\n",
    "    model = Resnext50BasedClassifier()\n",
    "    criterion = torch.nn.BCEWithLogitsLoss()\n",
    "    optimizer = optim.Adam(model.parameters(), lr=1e-4)\n",
    "    early_stopping = EarlyStopping(patience=7, verbose=True, delta=0)\n",
    "    device = torch.device(\"cuda\" if torch.cuda.is_available() else \"cpu\")\n",
    "\n",
    "    model.to(device)\n",
    "\n",
    "    return model, early_stopping, criterion, optimizer, device"
   ],
   "id": "a694f19597560e23",
   "outputs": [],
   "execution_count": 5
  },
  {
   "metadata": {
    "ExecuteTime": {
     "end_time": "2024-08-10T08:16:22.788321Z",
     "start_time": "2024-08-10T08:16:22.775262Z"
    }
   },
   "cell_type": "code",
   "source": [
    "num_epochs = 25\n",
    "\n",
    "\n",
    "def validate(\n",
    "        model: Resnext50BasedClassifier,\n",
    "        valid_loader: DataLoader,\n",
    "        criterion: torch.nn.BCEWithLogitsLoss,\n",
    "        history: dict[str, list[float]],\n",
    "        device: torch.device\n",
    ") -> tuple[float, float]:\n",
    "    model.eval()\n",
    "\n",
    "    valid_loss = 0.0\n",
    "    correct_valid = 0\n",
    "    total_valid = 0\n",
    "\n",
    "    with torch.no_grad():\n",
    "        for images, labels in valid_loader:\n",
    "            images, labels = images.to(device), labels.to(device).float()\n",
    "            outputs = model(images).squeeze(1)\n",
    "            loss = criterion(outputs, labels)\n",
    "            valid_loss += loss.item()\n",
    "            predicted = (outputs > 0.5).float()\n",
    "            correct_valid += predicted.eq(labels).sum().item()\n",
    "            total_valid += labels.size(0)\n",
    "\n",
    "    valid_loss /= len(valid_loader.dataset)\n",
    "    history[\"valid_loss\"].append(valid_loss)\n",
    "\n",
    "    return 100. * correct_valid / total_valid, valid_loss\n",
    "\n",
    "\n",
    "def run_training_loop() -> tuple[dict, float]:\n",
    "    checkpoint_path = os.path.join(\"checkpoints\", f\"resnext50_32x4d_classifier.pt\")\n",
    "    train_loader, valid_loader = get_loaders()\n",
    "    model, early_stopping, criterion, optimizer, device = get_loop_objects()\n",
    "    history = {\n",
    "        \"train_loss\": [],\n",
    "        \"valid_loss\": []\n",
    "    }\n",
    "    valid_accuracy = 0\n",
    "\n",
    "    for epoch in range(num_epochs):\n",
    "        model.train()\n",
    "        train_loss = 0.0\n",
    "        correct_train = 0\n",
    "        total_train = 0\n",
    "\n",
    "        with tqdm(train_loader, unit=\"batch\") as tepoch:\n",
    "            tepoch.set_description(f\"Epoch {epoch+1}/{num_epochs}\")\n",
    "\n",
    "            for images, labels in tepoch:\n",
    "                images, labels = images.to(device), labels.to(device).float()\n",
    "\n",
    "                optimizer.zero_grad()\n",
    "\n",
    "                # squeeze because the outputs are (BATCH_SIZE, 1) shape, and should be of (BATCH_SIZE,) shape\n",
    "                outputs = model(images).squeeze(1)\n",
    "                loss = criterion(outputs, labels)\n",
    "\n",
    "                loss.backward()\n",
    "                optimizer.step()\n",
    "\n",
    "                train_loss += loss.item()\n",
    "                predicted = (outputs > 0.5).float()\n",
    "                correct_train += predicted.eq(labels).sum().item()\n",
    "                total_train += labels.size(0)\n",
    "\n",
    "                tepoch.set_postfix(loss=train_loss/total_train, accuracy=100.*correct_train/total_train)\n",
    "\n",
    "        valid_accuracy, valid_loss = validate(model, valid_loader, criterion, history, device)\n",
    "        train_loss /= len(train_loader.dataset)\n",
    "        history[\"train_loss\"].append(train_loss)\n",
    "\n",
    "        print(f\"Validation Loss: {valid_loss:.4f}, Validation Accuracy: {valid_accuracy:.2f}%\")\n",
    "        early_stopping(valid_loss, model, checkpoint_path)\n",
    "\n",
    "        if early_stopping.early_stop:\n",
    "            print(\"Early stopping triggered\")\n",
    "            break\n",
    "\n",
    "    return history, valid_accuracy"
   ],
   "id": "a92e1bb7bda0ebe0",
   "outputs": [],
   "execution_count": 6
  },
  {
   "metadata": {
    "ExecuteTime": {
     "end_time": "2024-08-10T08:47:05.903695Z",
     "start_time": "2024-08-10T08:16:22.788321Z"
    }
   },
   "cell_type": "code",
   "source": [
    "history, valid_accuracy = run_training_loop()\n",
    "\n",
    "print(f\"Validation Accuracy: {valid_accuracy:.2f}%\")"
   ],
   "id": "924a5b410f377686",
   "outputs": [
    {
     "name": "stderr",
     "output_type": "stream",
     "text": [
      "Epoch 1/25: 100%|██████████| 301/301 [02:01<00:00,  2.47batch/s, accuracy=98.2, loss=0.0015] \n"
     ]
    },
    {
     "name": "stdout",
     "output_type": "stream",
     "text": [
      "Validation Loss: 0.0001, Validation Accuracy: 99.82%\n",
      "Validation loss decreased (inf --> 0.000126).  Saving model ...\n"
     ]
    },
    {
     "name": "stderr",
     "output_type": "stream",
     "text": [
      "Epoch 2/25: 100%|██████████| 301/301 [01:59<00:00,  2.52batch/s, accuracy=99.4, loss=0.000521]\n"
     ]
    },
    {
     "name": "stdout",
     "output_type": "stream",
     "text": [
      "Validation Loss: 0.0002, Validation Accuracy: 99.82%\n",
      "EarlyStopping counter: 1 out of 7\n"
     ]
    },
    {
     "name": "stderr",
     "output_type": "stream",
     "text": [
      "Epoch 3/25: 100%|██████████| 301/301 [01:59<00:00,  2.51batch/s, accuracy=99.6, loss=0.000453]\n"
     ]
    },
    {
     "name": "stdout",
     "output_type": "stream",
     "text": [
      "Validation Loss: 0.0001, Validation Accuracy: 99.88%\n",
      "Validation loss decreased (0.000126 --> 0.000113).  Saving model ...\n"
     ]
    },
    {
     "name": "stderr",
     "output_type": "stream",
     "text": [
      "Epoch 4/25: 100%|██████████| 301/301 [01:59<00:00,  2.53batch/s, accuracy=99.7, loss=0.000279]\n"
     ]
    },
    {
     "name": "stdout",
     "output_type": "stream",
     "text": [
      "Validation Loss: 0.0004, Validation Accuracy: 99.59%\n",
      "EarlyStopping counter: 1 out of 7\n"
     ]
    },
    {
     "name": "stderr",
     "output_type": "stream",
     "text": [
      "Epoch 5/25: 100%|██████████| 301/301 [01:58<00:00,  2.54batch/s, accuracy=99.7, loss=0.000349]\n"
     ]
    },
    {
     "name": "stdout",
     "output_type": "stream",
     "text": [
      "Validation Loss: 0.0001, Validation Accuracy: 99.82%\n",
      "EarlyStopping counter: 2 out of 7\n"
     ]
    },
    {
     "name": "stderr",
     "output_type": "stream",
     "text": [
      "Epoch 6/25: 100%|██████████| 301/301 [01:59<00:00,  2.52batch/s, accuracy=99.7, loss=0.000343]\n"
     ]
    },
    {
     "name": "stdout",
     "output_type": "stream",
     "text": [
      "Validation Loss: 0.0003, Validation Accuracy: 99.65%\n",
      "EarlyStopping counter: 3 out of 7\n"
     ]
    },
    {
     "name": "stderr",
     "output_type": "stream",
     "text": [
      "Epoch 7/25: 100%|██████████| 301/301 [01:58<00:00,  2.54batch/s, accuracy=99.9, loss=0.000102]\n"
     ]
    },
    {
     "name": "stdout",
     "output_type": "stream",
     "text": [
      "Validation Loss: 0.0001, Validation Accuracy: 99.94%\n",
      "Validation loss decreased (0.000113 --> 0.000093).  Saving model ...\n"
     ]
    },
    {
     "name": "stderr",
     "output_type": "stream",
     "text": [
      "Epoch 8/25: 100%|██████████| 301/301 [01:59<00:00,  2.52batch/s, accuracy=99.8, loss=0.000214]\n"
     ]
    },
    {
     "name": "stdout",
     "output_type": "stream",
     "text": [
      "Validation Loss: 0.0005, Validation Accuracy: 99.47%\n",
      "EarlyStopping counter: 1 out of 7\n"
     ]
    },
    {
     "name": "stderr",
     "output_type": "stream",
     "text": [
      "Epoch 9/25: 100%|██████████| 301/301 [01:59<00:00,  2.51batch/s, accuracy=99.8, loss=0.000235]\n"
     ]
    },
    {
     "name": "stdout",
     "output_type": "stream",
     "text": [
      "Validation Loss: 0.0004, Validation Accuracy: 99.59%\n",
      "EarlyStopping counter: 2 out of 7\n"
     ]
    },
    {
     "name": "stderr",
     "output_type": "stream",
     "text": [
      "Epoch 10/25: 100%|██████████| 301/301 [01:59<00:00,  2.52batch/s, accuracy=99.8, loss=0.000288]\n"
     ]
    },
    {
     "name": "stdout",
     "output_type": "stream",
     "text": [
      "Validation Loss: 0.0004, Validation Accuracy: 99.65%\n",
      "EarlyStopping counter: 3 out of 7\n"
     ]
    },
    {
     "name": "stderr",
     "output_type": "stream",
     "text": [
      "Epoch 11/25: 100%|██████████| 301/301 [01:59<00:00,  2.52batch/s, accuracy=99.9, loss=0.000203]\n"
     ]
    },
    {
     "name": "stdout",
     "output_type": "stream",
     "text": [
      "Validation Loss: 0.0003, Validation Accuracy: 99.82%\n",
      "EarlyStopping counter: 4 out of 7\n"
     ]
    },
    {
     "name": "stderr",
     "output_type": "stream",
     "text": [
      "Epoch 12/25: 100%|██████████| 301/301 [01:57<00:00,  2.55batch/s, accuracy=99.8, loss=0.000123]\n"
     ]
    },
    {
     "name": "stdout",
     "output_type": "stream",
     "text": [
      "Validation Loss: 0.0004, Validation Accuracy: 99.47%\n",
      "EarlyStopping counter: 5 out of 7\n"
     ]
    },
    {
     "name": "stderr",
     "output_type": "stream",
     "text": [
      "Epoch 13/25: 100%|██████████| 301/301 [01:59<00:00,  2.53batch/s, accuracy=99.9, loss=0.00013] \n"
     ]
    },
    {
     "name": "stdout",
     "output_type": "stream",
     "text": [
      "Validation Loss: 0.0002, Validation Accuracy: 99.76%\n",
      "EarlyStopping counter: 6 out of 7\n"
     ]
    },
    {
     "name": "stderr",
     "output_type": "stream",
     "text": [
      "Epoch 14/25: 100%|██████████| 301/301 [01:58<00:00,  2.53batch/s, accuracy=99.8, loss=0.000219]\n"
     ]
    },
    {
     "name": "stdout",
     "output_type": "stream",
     "text": [
      "Validation Loss: 0.0005, Validation Accuracy: 99.71%\n",
      "EarlyStopping counter: 7 out of 7\n",
      "Early stopping triggered\n",
      "Validation Accuracy: 99.71%\n"
     ]
    }
   ],
   "execution_count": 7
  }
 ],
 "metadata": {
  "kernelspec": {
   "display_name": "Python 3",
   "language": "python",
   "name": "python3"
  },
  "language_info": {
   "codemirror_mode": {
    "name": "ipython",
    "version": 2
   },
   "file_extension": ".py",
   "mimetype": "text/x-python",
   "name": "python",
   "nbconvert_exporter": "python",
   "pygments_lexer": "ipython2",
   "version": "2.7.6"
  }
 },
 "nbformat": 4,
 "nbformat_minor": 5
}
