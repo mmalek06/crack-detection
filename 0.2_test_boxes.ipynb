{
 "cells": [
  {
   "cell_type": "code",
   "id": "initial_id",
   "metadata": {
    "collapsed": true,
    "ExecuteTime": {
     "end_time": "2024-08-04T12:57:04.114053Z",
     "start_time": "2024-08-04T12:57:04.109837Z"
    }
   },
   "source": [
    "import json\n",
    "import random\n",
    "import os\n",
    "import cv2\n",
    "import numpy as np\n",
    "import matplotlib.pyplot as plt"
   ],
   "outputs": [],
   "execution_count": 87
  },
  {
   "metadata": {
    "ExecuteTime": {
     "end_time": "2024-08-04T12:57:05.164595Z",
     "start_time": "2024-08-04T12:57:04.116059Z"
    }
   },
   "cell_type": "code",
   "source": [
    "with open(os.path.join(\"data\", \"train\", \"coco_annotations.json\"), \"r\") as f:\n",
    "    coco_data = json.load(f)"
   ],
   "id": "c88f64517a32ad65",
   "outputs": [],
   "execution_count": 88
  },
  {
   "metadata": {
    "ExecuteTime": {
     "end_time": "2024-08-04T12:57:05.222727Z",
     "start_time": "2024-08-04T12:57:05.166599Z"
    }
   },
   "cell_type": "code",
   "source": [
    "annotations_with_bbox = [anno for anno in coco_data[\"annotations\"] if anno[\"area\"]]\n",
    "annotations_without_bbox = [anno for anno in coco_data[\"annotations\"] if not anno[\"area\"]]\n",
    "selected_with_bbox = random.sample(annotations_with_bbox, 8)\n",
    "selected_without_bbox = random.sample(annotations_without_bbox, 4)\n",
    "selected_annotations = selected_with_bbox + selected_without_bbox"
   ],
   "id": "597f55d9e7446360",
   "outputs": [
    {
     "ename": "ValueError",
     "evalue": "Sample larger than population or is negative",
     "output_type": "error",
     "traceback": [
      "\u001B[1;31m---------------------------------------------------------------------------\u001B[0m",
      "\u001B[1;31mValueError\u001B[0m                                Traceback (most recent call last)",
      "Cell \u001B[1;32mIn[89], line 4\u001B[0m\n\u001B[0;32m      2\u001B[0m annotations_without_bbox \u001B[38;5;241m=\u001B[39m [anno \u001B[38;5;28;01mfor\u001B[39;00m anno \u001B[38;5;129;01min\u001B[39;00m coco_data[\u001B[38;5;124m\"\u001B[39m\u001B[38;5;124mannotations\u001B[39m\u001B[38;5;124m\"\u001B[39m] \u001B[38;5;28;01mif\u001B[39;00m \u001B[38;5;129;01mnot\u001B[39;00m anno[\u001B[38;5;124m\"\u001B[39m\u001B[38;5;124marea\u001B[39m\u001B[38;5;124m\"\u001B[39m]]\n\u001B[0;32m      3\u001B[0m selected_with_bbox \u001B[38;5;241m=\u001B[39m random\u001B[38;5;241m.\u001B[39msample(annotations_with_bbox, \u001B[38;5;241m8\u001B[39m)\n\u001B[1;32m----> 4\u001B[0m selected_without_bbox \u001B[38;5;241m=\u001B[39m random\u001B[38;5;241m.\u001B[39msample(annotations_without_bbox, \u001B[38;5;241m4\u001B[39m)\n\u001B[0;32m      5\u001B[0m selected_annotations \u001B[38;5;241m=\u001B[39m selected_with_bbox \u001B[38;5;241m+\u001B[39m selected_without_bbox\n",
      "File \u001B[1;32m~\\.conda\\envs\\crack_detection_torch_1\\Lib\\random.py:456\u001B[0m, in \u001B[0;36mRandom.sample\u001B[1;34m(self, population, k, counts)\u001B[0m\n\u001B[0;32m    454\u001B[0m randbelow \u001B[38;5;241m=\u001B[39m \u001B[38;5;28mself\u001B[39m\u001B[38;5;241m.\u001B[39m_randbelow\n\u001B[0;32m    455\u001B[0m \u001B[38;5;28;01mif\u001B[39;00m \u001B[38;5;129;01mnot\u001B[39;00m \u001B[38;5;241m0\u001B[39m \u001B[38;5;241m<\u001B[39m\u001B[38;5;241m=\u001B[39m k \u001B[38;5;241m<\u001B[39m\u001B[38;5;241m=\u001B[39m n:\n\u001B[1;32m--> 456\u001B[0m     \u001B[38;5;28;01mraise\u001B[39;00m \u001B[38;5;167;01mValueError\u001B[39;00m(\u001B[38;5;124m\"\u001B[39m\u001B[38;5;124mSample larger than population or is negative\u001B[39m\u001B[38;5;124m\"\u001B[39m)\n\u001B[0;32m    457\u001B[0m result \u001B[38;5;241m=\u001B[39m [\u001B[38;5;28;01mNone\u001B[39;00m] \u001B[38;5;241m*\u001B[39m k\n\u001B[0;32m    458\u001B[0m setsize \u001B[38;5;241m=\u001B[39m \u001B[38;5;241m21\u001B[39m        \u001B[38;5;66;03m# size of a small set minus size of an empty list\u001B[39;00m\n",
      "\u001B[1;31mValueError\u001B[0m: Sample larger than population or is negative"
     ]
    }
   ],
   "execution_count": 89
  },
  {
   "metadata": {},
   "cell_type": "code",
   "source": [
    "images_dir = os.path.join(\"data\", \"train\", \"images\")\n",
    "rows, cols = 6, 2\n",
    "subplot_width, subplot_height = 400, 400\n",
    "figure_width = subplot_width * cols * 2 / 100\n",
    "figure_height = subplot_height * rows / 100\n",
    "\n",
    "plt.figure(figsize=(figure_width, figure_height))\n",
    "\n",
    "for idx, annotation in enumerate(selected_annotations):\n",
    "    plt.subplot(rows, cols, idx + 1)\n",
    "\n",
    "    image_id = annotation[\"image_id\"]\n",
    "    image_info = next(img for img in coco_data[\"images\"] if img[\"id\"] == image_id)\n",
    "    image_path = os.path.join(images_dir, image_info[\"file_name\"])\n",
    "    image = cv2.imread(image_path)\n",
    "    image_rgb = cv2.cvtColor(image, cv2.COLOR_BGR2RGB)\n",
    "\n",
    "    plt.imshow(image_rgb)\n",
    "\n",
    "    image_annotations = [anno for anno in coco_data[\"annotations\"] if anno[\"image_id\"] == image_id]\n",
    "\n",
    "    for anno in image_annotations:\n",
    "        if anno[\"bbox\"]:\n",
    "            x, y, w, h = anno[\"bbox\"]\n",
    "            plt.gca().add_patch(plt.Rectangle((x, y), w, h, edgecolor='r', facecolor='none', linewidth=2))\n",
    "\n",
    "        if anno[\"segmentation\"]:\n",
    "            for seg in anno[\"segmentation\"]:\n",
    "                seg_np = np.array(seg).reshape((-1, 2))\n",
    "                plt.gca().add_patch(plt.Polygon(seg_np, edgecolor='g', facecolor='none', linewidth=2))\n",
    "\n",
    "    plt.title(f\"Image ID: {image_id} \\nName: {image_info['file_name']}\")\n",
    "    plt.axis(\"off\")\n",
    "\n",
    "plt.tight_layout()\n",
    "plt.show()"
   ],
   "id": "ddb696cf6910f6d3",
   "outputs": [],
   "execution_count": null
  },
  {
   "metadata": {},
   "cell_type": "code",
   "source": "",
   "id": "73501e2a6c4d7f90",
   "outputs": [],
   "execution_count": null
  }
 ],
 "metadata": {
  "kernelspec": {
   "display_name": "Python 3",
   "language": "python",
   "name": "python3"
  },
  "language_info": {
   "codemirror_mode": {
    "name": "ipython",
    "version": 2
   },
   "file_extension": ".py",
   "mimetype": "text/x-python",
   "name": "python",
   "nbconvert_exporter": "python",
   "pygments_lexer": "ipython2",
   "version": "2.7.6"
  }
 },
 "nbformat": 4,
 "nbformat_minor": 5
}
